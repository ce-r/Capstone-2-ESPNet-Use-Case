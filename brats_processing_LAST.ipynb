{
  "nbformat": 4,
  "nbformat_minor": 0,
  "metadata": {
    "accelerator": "TPU",
    "colab": {
      "name": "brats_processing_LAST.ipynb",
      "provenance": [],
      "collapsed_sections": []
    },
    "kernelspec": {
      "display_name": "conda_pytorch_p36",
      "language": "python",
      "name": "conda_pytorch_p36"
    },
    "language_info": {
      "codemirror_mode": {
        "name": "ipython",
        "version": 3
      },
      "file_extension": ".py",
      "mimetype": "text/x-python",
      "name": "python",
      "nbconvert_exporter": "python",
      "pygments_lexer": "ipython3",
      "version": "3.6.5"
    }
  },
  "cells": [
    {
      "cell_type": "markdown",
      "metadata": {
        "id": "jwzI08XnQbga",
        "colab_type": "text"
      },
      "source": [
        "#INTRO:\n",
        "This introduction is for beginners. If you are new to deep learning and image processing then you should take a moment to read the following statements. Deep learning combines several skills including file path manipulation: working with files rooted in your personal computer, google cloud directories, or even amazon web service bucket directories. Make sure you have the right imports before proceeding. Second, build your skills with matrices. Working with matrices especially tensors means you will be working with high dimensional data/arrays, more than 2d. 3d tensors will be standard, if you can imagine a finite number of 2d planes(i.e. [ : , : , : ]). You will want to make yourself familiar with the skill of manipulating these multi dimensional arrays. This is a necessary and crucial part of modeling. This is the part of modeling that sets training in motion. Since we are using Colab, we are accessing files from a google drive directory. It is important to note that you should have the proper import to access your files. Below you will find the Colab import.\n",
        "\n",
        "Should you want to process and model this data, you can find it on the UPenn BraTS website. "
      ]
    },
    {
      "cell_type": "markdown",
      "metadata": {
        "id": "sVXoCCHXRGQk",
        "colab_type": "text"
      },
      "source": [
        "Be sure to import all the following libraries meant for MRI and filepath manipulation"
      ]
    },
    {
      "cell_type": "code",
      "metadata": {
        "colab_type": "code",
        "id": "hWcZc8nKUGx1",
        "outputId": "a983b080-94ef-4ba3-b02e-f66ec2a9b680",
        "colab": {}
      },
      "source": [
        "!pip install --upgrade --quiet pip\n",
        "!pip install --upgrade --quiet nibabel pydicom medpy\n",
        "!pip install --upgrade --quiet SimpleITK\n",
        "!pip install pydicom\n",
        "!pip install medpy"
      ],
      "execution_count": 0,
      "outputs": [
        {
          "output_type": "stream",
          "text": [
            "\u001b[31mfastai 1.0.60 requires nvidia-ml-py3, which is not installed.\u001b[0m\n",
            "Requirement already satisfied: pydicom in /home/ec2-user/anaconda3/envs/pytorch_p36/lib/python3.6/site-packages (1.4.0)\n",
            "Requirement already satisfied: medpy in /home/ec2-user/anaconda3/envs/pytorch_p36/lib/python3.6/site-packages (0.4.0)\n",
            "Requirement already satisfied: SimpleITK>=1.1.0 in /home/ec2-user/anaconda3/envs/pytorch_p36/lib/python3.6/site-packages (from medpy) (1.2.4)\n",
            "Requirement already satisfied: scipy>=1.1.0 in /home/ec2-user/anaconda3/envs/pytorch_p36/lib/python3.6/site-packages (from medpy) (1.1.0)\n",
            "Requirement already satisfied: numpy>=1.11.0 in /home/ec2-user/anaconda3/envs/pytorch_p36/lib/python3.6/site-packages (from medpy) (1.15.4)\n"
          ],
          "name": "stdout"
        }
      ]
    },
    {
      "cell_type": "code",
      "metadata": {
        "colab_type": "code",
        "id": "XS-M9bOyUGx7",
        "outputId": "421d1a0c-43d7-4b9b-ea4d-981f958a1aef",
        "colab": {
          "base_uri": "https://localhost:8080/",
          "height": 34
        }
      },
      "source": [
        "%pylab inline\n",
        "import nibabel\n",
        "import pydicom\n",
        "import medpy\n",
        "import SimpleITK\n",
        "from fastai.vision import *\n",
        "import os\n",
        "\n",
        "import torch"
      ],
      "execution_count": 0,
      "outputs": [
        {
          "output_type": "stream",
          "text": [
            "Populating the interactive namespace from numpy and matplotlib\n"
          ],
          "name": "stdout"
        }
      ]
    },
    {
      "cell_type": "markdown",
      "metadata": {
        "id": "lS8TntPzRObt",
        "colab_type": "text"
      },
      "source": [
        "The following function takes an image as a parameter and shapes the image based on your resolution preferences before it displays the image. In this version from SimpleITK, the image will be on the gray scale. "
      ]
    },
    {
      "cell_type": "code",
      "metadata": {
        "colab_type": "code",
        "id": "a8EqEuGjVUa4",
        "colab": {}
      },
      "source": [
        "def sitk_show(img, title=None, margin=0.0, dpi=60):\n",
        "    nda = SimpleITK.GetArrayFromImage(img)\n",
        "\n",
        "    figsize = (1 + margin) * nda.shape[0] / dpi, (1 + margin) * nda.shape[1] / dpi\n",
        "    extent = (0, nda.shape[1], nda.shape[0], 0)\n",
        "\n",
        "    fig = plt.figure(figsize=figsize, dpi=dpi)\n",
        "    ax = fig.add_axes([margin, margin, 1 - 2*margin, 1 - 2*margin])\n",
        "\n",
        "    plt.set_cmap(\"gray\")\n",
        "    ax.imshow(nda,extent=extent,interpolation=None)\n",
        "\n",
        "    if title:\n",
        "        plt.title(title)\n",
        "\n",
        "    plt.show()"
      ],
      "execution_count": 0,
      "outputs": []
    },
    {
      "cell_type": "markdown",
      "metadata": {
        "id": "NjJ_jbrjRqlz",
        "colab_type": "text"
      },
      "source": [
        "This function loads an image by accepting a filepath to the image and returns the array volume and/or SimpleITK image ready for display using their api or just array volumne given the boolean parameter.\n",
        "\n"
      ]
    },
    {
      "cell_type": "code",
      "metadata": {
        "colab_type": "code",
        "id": "hYSlzO-GVUSQ",
        "colab": {}
      },
      "source": [
        "def load_vol(path, get_sitk=False):\n",
        "    path = str(path) #adjust for posix path types.\n",
        "    sitk_vol = SimpleITK.ReadImage(path)\n",
        "    vol = SimpleITK.GetArrayFromImage(sitk_vol)\n",
        "    if get_sitk:\n",
        "        return (vol, sitk_vol)\n",
        "    else:\n",
        "        return vol "
      ],
      "execution_count": 0,
      "outputs": []
    },
    {
      "cell_type": "markdown",
      "metadata": {
        "id": "bKzeP5kdBNu7",
        "colab_type": "text"
      },
      "source": [
        "This normalization technique is based on standard techniques in image processing of pixel intensities. Adding the minimum value to the pixel array and dividing by the maximum scales the values. The Resolution of the image does not change much since our minimum values are 0 on the gray scale but the transformation of the pixel intensity to a smaller scale may improve computational efficiency. This says nothing about the consequence of having negative value pixels. The normalization technique is a simplified version of standard pixel normalization.  "
      ]
    },
    {
      "cell_type": "code",
      "metadata": {
        "colab_type": "code",
        "id": "a5Czr3EVL_Yc",
        "colab": {}
      },
      "source": [
        "def basic_norm(arr):\n",
        "    a_min = np.min(arr)\n",
        "    a_max = np.max(arr)\n",
        "\n",
        "    if a_min==a_max:\n",
        "        #blank image\n",
        "        return np.zeros(arr.shape)\n",
        "    else:\n",
        "        add_min = arr + a_min\n",
        "        norm = add_min / a_max\n",
        "        return norm"
      ],
      "execution_count": 0,
      "outputs": []
    },
    {
      "cell_type": "markdown",
      "metadata": {
        "id": "-sl0aC8WJi9H",
        "colab_type": "text"
      },
      "source": [
        "Normalize each volumetric array and store in an array where \n",
        "s is a slice in a volume or set of brain image slices. "
      ]
    },
    {
      "cell_type": "code",
      "metadata": {
        "colab_type": "code",
        "id": "mPBzoDQPUGyA",
        "colab": {}
      },
      "source": [
        "def slice_norm(vol):\n",
        "    #normalizes each slice\n",
        "    return np.array([basic_norm(s) for s in vol])"
      ],
      "execution_count": 0,
      "outputs": []
    },
    {
      "cell_type": "markdown",
      "metadata": {
        "colab_type": "text",
        "id": "ESTFiP7rUGyE"
      },
      "source": [
        "\n",
        "## plan:\n",
        "<li>get patient</li>\n",
        "<li>grab volumes and mask volume</li>\n",
        "<li>load volumes, split into images</li>\n",
        "<li>normalize the images and stack</li>\n",
        "<li>save</li>"
      ]
    },
    {
      "cell_type": "markdown",
      "metadata": {
        "id": "lDR2TKibKQDh",
        "colab_type": "text"
      },
      "source": [
        "This function will seperate training data from testing data in the form of file paths. This code is based on the filepath structure of the folder downloaded from BraTS UPenn website. This function takes the root directory as parameter and collects all pertinent filepaths into a 1d array. We then use list comprehension to return the training and label set with containing string 'OT'."
      ]
    },
    {
      "cell_type": "code",
      "metadata": {
        "colab_type": "code",
        "id": "3PzeSNe8UGyF",
        "colab": {}
      },
      "source": [
        "#separates training data\n",
        "def grab_mhas(path):\n",
        "    posix_path = pathlib.Path(path)\n",
        "    files = np.array([[q for q in p.ls() if '.txt' not in str(q)] for p in pathlib.Path(path).ls()]).ravel()\n",
        "    return ([f for f in files if 'OT' not in f.name], [f for f in files if 'OT' in f.name])"
      ],
      "execution_count": 0,
      "outputs": []
    },
    {
      "cell_type": "code",
      "metadata": {
        "id": "jp0VX7e1-yzK",
        "colab_type": "code",
        "colab": {}
      },
      "source": [
        "'''\n",
        "NOTE: particular to OS. \n",
        "      particular to google drive or aws filepath directory.\n",
        "'''\n",
        "\n",
        "dpath =  pathlib.Path('./brats_gdrive/BRATS2015_Training/')"
      ],
      "execution_count": 0,
      "outputs": []
    },
    {
      "cell_type": "markdown",
      "metadata": {
        "id": "8dbzNCZ8L5KM",
        "colab_type": "text"
      },
      "source": [
        "This is where we capture all filepaths to patients image files using os.walk, making sure not capture any test files from the 'Testing' directory in the root directory and finally appending to the patients variable. \n",
        "Each patient contains 5 image files including T1,T1c,T2,Flair, and OT\n",
        "OT is the label/mask. The previous 4 files are signal modalities or images based on different mri techniques. But it is important to remember that we are not gathering image files here just patient filepaths that lead us to their image files. "
      ]
    },
    {
      "cell_type": "code",
      "metadata": {
        "colab_type": "code",
        "id": "7stA0gmO6kPz",
        "outputId": "7d62ed29-cbcc-4896-d94e-62d13b5764db",
        "colab": {}
      },
      "source": [
        "#fetch file paths\n",
        "patients = []\n",
        "for path, dirs, files in os.walk(dpath):\n",
        "    if 'Testing' not in path: #no masks\n",
        "        for d in dirs:\n",
        "            if 'pat' in d and not 'brats_2013' in d: #ignore data from the wrong year.\n",
        "                patients.append(os.path.join(path,d))\n",
        "                \n",
        "patients[0]"
      ],
      "execution_count": 0,
      "outputs": [
        {
          "output_type": "execute_result",
          "data": {
            "text/plain": [
              "'../brats_gdrive/BRATS2015_Training/LGG/brats_tcia_pat470_0001'"
            ]
          },
          "metadata": {
            "tags": []
          },
          "execution_count": 18
        }
      ]
    },
    {
      "cell_type": "markdown",
      "metadata": {
        "id": "P_ngVZflNrXI",
        "colab_type": "text"
      },
      "source": [
        "Using grab_mhas, we display a single patient's modality files"
      ]
    },
    {
      "cell_type": "code",
      "metadata": {
        "colab_type": "code",
        "id": "iArqQz8L6qHZ",
        "outputId": "ed25229c-1e28-4493-e280-1db778e98133",
        "colab": {}
      },
      "source": [
        "xs, y = grab_mhas(patients[68])\n",
        "xs"
      ],
      "execution_count": 0,
      "outputs": [
        {
          "output_type": "execute_result",
          "data": {
            "text/plain": [
              "[PosixPath('../brats_gdrive/BRATS2015_Training/HGG/brats_tcia_pat460_0001/VSD.Brain.XX.O.MR_T1c.36553/VSD.Brain.XX.O.MR_T1c.36553.mha'),\n",
              " PosixPath('../brats_gdrive/BRATS2015_Training/HGG/brats_tcia_pat460_0001/VSD.Brain.XX.O.MR_T2.36554/VSD.Brain.XX.O.MR_T2.36554.mha'),\n",
              " PosixPath('../brats_gdrive/BRATS2015_Training/HGG/brats_tcia_pat460_0001/VSD.Brain.XX.O.MR_T1.36552/VSD.Brain.XX.O.MR_T1.36552.mha'),\n",
              " PosixPath('../brats_gdrive/BRATS2015_Training/HGG/brats_tcia_pat460_0001/VSD.Brain.XX.O.MR_Flair.36551/VSD.Brain.XX.O.MR_Flair.36551.mha')]"
            ]
          },
          "metadata": {
            "tags": []
          },
          "execution_count": 22
        }
      ]
    },
    {
      "cell_type": "markdown",
      "metadata": {
        "id": "4uEx4l7-NzsK",
        "colab_type": "text"
      },
      "source": [
        "label file"
      ]
    },
    {
      "cell_type": "code",
      "metadata": {
        "colab_type": "code",
        "id": "Ipm9vl6s6_07",
        "outputId": "1253c90c-66bc-43d9-a948-2fcd5583e66c",
        "colab": {
          "base_uri": "https://localhost:8080/",
          "height": 34
        }
      },
      "source": [
        "y"
      ],
      "execution_count": 0,
      "outputs": [
        {
          "output_type": "execute_result",
          "data": {
            "text/plain": [
              "[PosixPath('../brats_gdrive/BRATS2015_Training/HGG/brats_tcia_pat460_0001/VSD.Brain_3more.XX.O.OT.42795/VSD.Brain_3more.XX.O.OT.42795.mha')]"
            ]
          },
          "metadata": {
            "tags": []
          },
          "execution_count": 23
        }
      ]
    },
    {
      "cell_type": "markdown",
      "metadata": {
        "id": "LSkxuev3N63f",
        "colab_type": "text"
      },
      "source": [
        "Load volume from xs list of patients"
      ]
    },
    {
      "cell_type": "code",
      "metadata": {
        "colab_type": "code",
        "id": "Ymz3TT6L63Ci",
        "outputId": "cb0e2aee-e00c-477b-b183-6af503b1c906",
        "colab": {}
      },
      "source": [
        "vol, s_vol = load_vol(xs[0], get_sitk=True)\n",
        "vol.shape"
      ],
      "execution_count": 0,
      "outputs": [
        {
          "output_type": "execute_result",
          "data": {
            "text/plain": [
              "(155, 240, 240)"
            ]
          },
          "metadata": {
            "tags": []
          },
          "execution_count": 24
        }
      ]
    },
    {
      "cell_type": "markdown",
      "metadata": {
        "id": "BeMF1FosOKbG",
        "colab_type": "text"
      },
      "source": [
        "Display image slice from patient volume"
      ]
    },
    {
      "cell_type": "code",
      "metadata": {
        "id": "0-gHO5w9-yzm",
        "colab_type": "code",
        "outputId": "8b7fb74f-099a-4620-8912-0a5e5821d6a5",
        "colab": {}
      },
      "source": [
        "'''\n",
        "show cross-sectional area:\n",
        "'''\n",
        "plt.imshow(vol[75])"
      ],
      "execution_count": 0,
      "outputs": [
        {
          "output_type": "execute_result",
          "data": {
            "text/plain": [
              "<matplotlib.image.AxesImage at 0x7f23ad4ffa58>"
            ]
          },
          "metadata": {
            "tags": []
          },
          "execution_count": 25
        },
        {
          "output_type": "display_data",
          "data": {
            "image/png": "[encoded data removed]",
            "text/plain": [
              "<Figure size 432x288 with 1 Axes>"
            ]
          },
          "metadata": {
            "tags": []
          }
        }
      ]
    },
    {
      "cell_type": "markdown",
      "metadata": {
        "colab_type": "text",
        "id": "pY7WsvXDUGyM"
      },
      "source": [
        "\n",
        "### do we want bias correction?\n"
      ]
    },
    {
      "cell_type": "markdown",
      "metadata": {
        "id": "lVbl5k0uOS3r",
        "colab_type": "text"
      },
      "source": [
        "Bias correction may improve modeling results but it is time costly. With big computing power, it would be worthy to apply this function. "
      ]
    },
    {
      "cell_type": "code",
      "metadata": {
        "colab_type": "code",
        "id": "Mfk7nb_0UGyN",
        "colab": {}
      },
      "source": [
        "def bias_correct(img, levels=4, its_per_level=60):\n",
        "    inputImage = SimpleITK.Cast(img, SimpleITK.sitkFloat32 )\n",
        "    corrector = SimpleITK.N4BiasFieldCorrectionImageFilter()\n",
        "    numberFittingLevels = levels\n",
        "    corrector.SetMaximumNumberOfIterations( [ its_per_level ] *numberFittingLevels  )\n",
        "    output = corrector.Execute(inputImage)\n",
        "    return output"
      ],
      "execution_count": 0,
      "outputs": []
    },
    {
      "cell_type": "code",
      "metadata": {
        "colab_type": "code",
        "id": "OZ5gbbJRUGyR",
        "outputId": "442fa815-9c5a-4581-9b9c-caff2d7d42b8",
        "colab": {
          "base_uri": "https://localhost:8080/",
          "height": 286
        }
      },
      "source": [
        "#bias correction is possible, but would take a forever. (time per slice ~ 1 second)\n",
        "sitk_show(bias_correct(s_vol[:,:,67]))"
      ],
      "execution_count": 0,
      "outputs": [
        {
          "output_type": "display_data",
          "data": {
            "image/png": "[encoded data removed]",
            "text/plain": [
              "<Figure size 240x240 with 1 Axes>"
            ]
          },
          "metadata": {
            "tags": []
          }
        }
      ]
    },
    {
      "cell_type": "code",
      "metadata": {
        "colab_type": "code",
        "id": "oYFIKNbIUGyZ",
        "outputId": "5498c35c-e99c-41a1-94f8-6121826f7171",
        "colab": {
          "base_uri": "https://localhost:8080/",
          "height": 194
        }
      },
      "source": [
        "patients[:10]"
      ],
      "execution_count": 0,
      "outputs": [
        {
          "output_type": "execute_result",
          "data": {
            "text/plain": [
              "['../brats_gdrive/BRATS2015_Training/LGG/brats_tcia_pat470_0001',\n",
              " '../brats_gdrive/BRATS2015_Training/LGG/brats_tcia_pat451_0001',\n",
              " '../brats_gdrive/BRATS2015_Training/LGG/brats_tcia_pat266_0001',\n",
              " '../brats_gdrive/BRATS2015_Training/LGG/brats_tcia_pat393_0001',\n",
              " '../brats_gdrive/BRATS2015_Training/LGG/brats_tcia_pat249_0001',\n",
              " '../brats_gdrive/BRATS2015_Training/LGG/brats_tcia_pat177_0001',\n",
              " '../brats_gdrive/BRATS2015_Training/LGG/brats_tcia_pat276_0001',\n",
              " '../brats_gdrive/BRATS2015_Training/LGG/brats_tcia_pat462_0001',\n",
              " '../brats_gdrive/BRATS2015_Training/LGG/brats_tcia_pat413_0001',\n",
              " '../brats_gdrive/BRATS2015_Training/LGG/brats_tcia_pat299_0001']"
            ]
          },
          "metadata": {
            "tags": []
          },
          "execution_count": 29
        }
      ]
    },
    {
      "cell_type": "markdown",
      "metadata": {
        "id": "YzHnI8IoOzkz",
        "colab_type": "text"
      },
      "source": [
        "Formatting for display of processing with patient IDs "
      ]
    },
    {
      "cell_type": "code",
      "metadata": {
        "colab_type": "code",
        "id": "cHc3WlftUGyh",
        "outputId": "d1a1b91c-3081-4eef-b910-9bef33820af1",
        "colab": {
          "base_uri": "https://localhost:8080/",
          "height": 194
        }
      },
      "source": [
        "'''\n",
        "format patient IDs\n",
        "'''\n",
        "\n",
        "for p in patients[:10]:\n",
        "    xs, y = grab_mhas(p)\n",
        "\n",
        "    #grab patient ID from filename\n",
        "    pid = xs[0].name.split('.')[-2]\n",
        "    \n",
        "    print(f'Grabbing PID {pid}')"
      ],
      "execution_count": 0,
      "outputs": [
        {
          "output_type": "stream",
          "text": [
            "Grabbing PID 41150\n",
            "Grabbing PID 41142\n",
            "Grabbing PID 35889\n",
            "Grabbing PID 41090\n",
            "Grabbing PID 35829\n",
            "Grabbing PID 35673\n",
            "Grabbing PID 35904\n",
            "Grabbing PID 41144\n",
            "Grabbing PID 36279\n",
            "Grabbing PID 35953\n"
          ],
          "name": "stdout"
        }
      ]
    },
    {
      "cell_type": "markdown",
      "metadata": {
        "id": "cbhH78kcPObg",
        "colab_type": "text"
      },
      "source": [
        "tqdm is a great tool for showing progress of data processing. It can be applied in the for loop statement as an enumerator."
      ]
    },
    {
      "cell_type": "code",
      "metadata": {
        "colab_type": "code",
        "id": "ssiF5k3xMPqR",
        "colab": {}
      },
      "source": [
        "from tqdm import tqdm"
      ],
      "execution_count": 0,
      "outputs": []
    },
    {
      "cell_type": "code",
      "metadata": {
        "colab_type": "code",
        "id": "jLDO2Vj8tMgW",
        "outputId": "d029b434-2497-428a-9e21-a5ce88529d91",
        "colab": {}
      },
      "source": [
        "patients = []\n",
        "\n",
        "for path, dirs, files in os.walk(dpath):\n",
        "    if 'Testing' not in path: #no masks\n",
        "        for d in dirs:\n",
        "            if 'pat' in d and not 'brats_2013' in d: #ignore data from the wrong year\n",
        "                patients.append(os.path.join(path,d))\n",
        "                \n",
        "patients[:10]"
      ],
      "execution_count": 0,
      "outputs": [
        {
          "output_type": "execute_result",
          "data": {
            "text/plain": [
              "['../brats_gdrive/BRATS2015_Training/LGG/brats_tcia_pat470_0001',\n",
              " '../brats_gdrive/BRATS2015_Training/LGG/brats_tcia_pat451_0001',\n",
              " '../brats_gdrive/BRATS2015_Training/LGG/brats_tcia_pat266_0001',\n",
              " '../brats_gdrive/BRATS2015_Training/LGG/brats_tcia_pat393_0001',\n",
              " '../brats_gdrive/BRATS2015_Training/LGG/brats_tcia_pat249_0001',\n",
              " '../brats_gdrive/BRATS2015_Training/LGG/brats_tcia_pat177_0001',\n",
              " '../brats_gdrive/BRATS2015_Training/LGG/brats_tcia_pat276_0001',\n",
              " '../brats_gdrive/BRATS2015_Training/LGG/brats_tcia_pat462_0001',\n",
              " '../brats_gdrive/BRATS2015_Training/LGG/brats_tcia_pat413_0001',\n",
              " '../brats_gdrive/BRATS2015_Training/LGG/brats_tcia_pat299_0001']"
            ]
          },
          "metadata": {
            "tags": []
          },
          "execution_count": 34
        }
      ]
    },
    {
      "cell_type": "markdown",
      "metadata": {
        "id": "HCEy5T0YQLCr",
        "colab_type": "text"
      },
      "source": [
        "This for loop processes all data one patient at a time. First we grab a filepath to a patient. Then we use grab_mhas to split our image files into training and labels. xs will carry 4 images files at a time and y one image file, the segmentation mask file. Then we normalize each slice in the xs list only. the y label doesn't need to be normalized. It is our ground truth. We have our list of normalized image arrays stored in vols_list and we proceed to load the mask and store it in mask_vol. NOTE: one mask/ground truth file for all 4 image modalities. Next we add the mask_vol to the vols_list and convert the list to an array. We calculate the total number of slices with vols.shape[1] and proceed to enumerate across each slice using tdqm to track our progress to completion. In the for loop we split the array list into separate volumes with all 4 volumes containing 4 dimensions. Dimension 0 has shape 5, and for s=0 or slice=0, we shall gather all pixels across all 4 modalities including the mask. Each image is 240 by 240. The dimensions of the image are are in vols.shape[2] and vols.shape[3]. Next we stack images across all 4 modalities so that the shape of the array is now 240,240,4. Before we write these images as pngs to the directory for final phase modeling, we have to multiply the image pixel in the stack array by 255, to get proper pixel range and cast to uint8, which is appropriate to our 0-255 pixel range. Remember we had previously normalized the data to be between 0 and 1. \n"
      ]
    },
    {
      "cell_type": "code",
      "metadata": {
        "colab_type": "code",
        "id": "3qyhc8UaUGyq",
        "jupyter": {
          "outputs_hidden": true
        },
        "outputId": "d69b8e24-43ce-4720-a16a-ab93ab3335d9",
        "colab": {
          "base_uri": "https://localhost:8080/",
          "height": 1000
        }
      },
      "source": [
        "'''\n",
        "this should generate all the data we need.\n",
        "'''\n",
        "for p in patients:\n",
        "    xs, y = grab_mhas(p)\n",
        "\n",
        "    #grab patient ID from filename\n",
        "    pid = xs[0].name.split('.')[-2]\n",
        "\n",
        "    print(f'Grabbing PID {pid}')\n",
        "\n",
        "    #run slicewise normalization on each volume\n",
        "    vols_list = [slice_norm(load_vol(x)) for x in xs]\n",
        "\n",
        "    #also load the mask volume\n",
        "    mask_vol = load_vol(y[0])\n",
        "\n",
        "    #stick everything together\n",
        "    vols_list.append(mask_vol)\n",
        "    vols = np.array(vols_list)\n",
        "\n",
        "\n",
        "    #grab the number of slices.\n",
        "    n_slices = vols.shape[1]\n",
        "\n",
        "    #modify output files here:\n",
        "    for s in tqdm(range(n_slices)):\n",
        "        a,b,c,d,m = vols[:,s,:,:]#slices vary for all 5 volumes\n",
        "        stck = np.stack([a,b,c,d], axis=2)#shape 240,240,4\n",
        "        \n",
        "        imwrite(f'./brats_png/images/{pid}_{s}.png',(stck[:,:,:3]*255).astype('uint8'))\n",
        "        imwrite(f'./brats_png/labels/mask_{pid}_{s}.png',(m).astype('uint8')) "
      ],
      "execution_count": 0,
      "outputs": [
        {
          "output_type": "stream",
          "text": [
            "Grabbing PID 41150\n"
          ],
          "name": "stdout"
        },
        {
          "output_type": "stream",
          "text": [
            "100%|██████████| 155/155 [00:01<00:00, 91.88it/s]\n"
          ],
          "name": "stderr"
        },
        {
          "output_type": "stream",
          "text": [
            "Grabbing PID 41142\n"
          ],
          "name": "stdout"
        },
        {
          "output_type": "stream",
          "text": [
            "100%|██████████| 155/155 [00:01<00:00, 82.15it/s]\n"
          ],
          "name": "stderr"
        },
        {
          "output_type": "stream",
          "text": [
            "Grabbing PID 35889\n"
          ],
          "name": "stdout"
        },
        {
          "output_type": "stream",
          "text": [
            "100%|██████████| 155/155 [00:01<00:00, 91.50it/s]\n"
          ],
          "name": "stderr"
        },
        {
          "output_type": "stream",
          "text": [
            "Grabbing PID 41090\n"
          ],
          "name": "stdout"
        },
        {
          "output_type": "stream",
          "text": [
            "100%|██████████| 155/155 [00:01<00:00, 80.17it/s]\n"
          ],
          "name": "stderr"
        },
        {
          "output_type": "stream",
          "text": [
            "Grabbing PID 35829\n"
          ],
          "name": "stdout"
        },
        {
          "output_type": "stream",
          "text": [
            "100%|██████████| 155/155 [00:01<00:00, 83.80it/s]\n"
          ],
          "name": "stderr"
        },
        {
          "output_type": "stream",
          "text": [
            "Grabbing PID 35673\n"
          ],
          "name": "stdout"
        },
        {
          "output_type": "stream",
          "text": [
            "100%|██████████| 155/155 [00:01<00:00, 92.61it/s] \n"
          ],
          "name": "stderr"
        },
        {
          "output_type": "stream",
          "text": [
            "Grabbing PID 35904\n"
          ],
          "name": "stdout"
        },
        {
          "output_type": "stream",
          "text": [
            "100%|██████████| 155/155 [00:01<00:00, 91.70it/s]\n"
          ],
          "name": "stderr"
        },
        {
          "output_type": "stream",
          "text": [
            "Grabbing PID 41144\n"
          ],
          "name": "stdout"
        },
        {
          "output_type": "stream",
          "text": [
            "100%|██████████| 155/155 [00:01<00:00, 88.50it/s]\n"
          ],
          "name": "stderr"
        },
        {
          "output_type": "stream",
          "text": [
            "Grabbing PID 36279\n"
          ],
          "name": "stdout"
        },
        {
          "output_type": "stream",
          "text": [
            "100%|██████████| 155/155 [00:01<00:00, 84.64it/s]\n"
          ],
          "name": "stderr"
        },
        {
          "output_type": "stream",
          "text": [
            "Grabbing PID 35953\n"
          ],
          "name": "stdout"
        },
        {
          "output_type": "stream",
          "text": [
            "100%|██████████| 155/155 [00:01<00:00, 80.85it/s]\n"
          ],
          "name": "stderr"
        },
        {
          "output_type": "stream",
          "text": [
            "Grabbing PID 41044\n"
          ],
          "name": "stdout"
        },
        {
          "output_type": "stream",
          "text": [
            "100%|██████████| 155/155 [00:01<00:00, 92.26it/s]\n"
          ],
          "name": "stderr"
        },
        {
          "output_type": "stream",
          "text": [
            "Grabbing PID 41105\n"
          ],
          "name": "stdout"
        },
        {
          "output_type": "stream",
          "text": [
            "100%|██████████| 155/155 [00:01<00:00, 88.64it/s]\n"
          ],
          "name": "stderr"
        },
        {
          "output_type": "stream",
          "text": [
            "Grabbing PID 36601\n"
          ],
          "name": "stdout"
        },
        {
          "output_type": "stream",
          "text": [
            "100%|██████████| 155/155 [00:01<00:00, 84.27it/s]\n"
          ],
          "name": "stderr"
        },
        {
          "output_type": "stream",
          "text": [
            "Grabbing PID 35532\n"
          ],
          "name": "stdout"
        },
        {
          "output_type": "stream",
          "text": [
            "100%|██████████| 155/155 [00:01<00:00, 85.94it/s]\n"
          ],
          "name": "stderr"
        },
        {
          "output_type": "stream",
          "text": [
            "Grabbing PID 41026\n"
          ],
          "name": "stdout"
        },
        {
          "output_type": "stream",
          "text": [
            "100%|██████████| 155/155 [00:01<00:00, 89.18it/s] \n"
          ],
          "name": "stderr"
        },
        {
          "output_type": "stream",
          "text": [
            "Grabbing PID 36008\n"
          ],
          "name": "stdout"
        },
        {
          "output_type": "stream",
          "text": [
            "100%|██████████| 155/155 [00:01<00:00, 87.57it/s]\n"
          ],
          "name": "stderr"
        },
        {
          "output_type": "stream",
          "text": [
            "Grabbing PID 40825\n"
          ],
          "name": "stdout"
        },
        {
          "output_type": "stream",
          "text": [
            "100%|██████████| 155/155 [00:01<00:00, 81.34it/s]\n"
          ],
          "name": "stderr"
        },
        {
          "output_type": "stream",
          "text": [
            "Grabbing PID 41152\n"
          ],
          "name": "stdout"
        },
        {
          "output_type": "stream",
          "text": [
            "100%|██████████| 155/155 [00:02<00:00, 74.47it/s]\n"
          ],
          "name": "stderr"
        },
        {
          "output_type": "stream",
          "text": [
            "Grabbing PID 41066\n"
          ],
          "name": "stdout"
        },
        {
          "output_type": "stream",
          "text": [
            "100%|██████████| 155/155 [00:01<00:00, 90.39it/s]\n"
          ],
          "name": "stderr"
        },
        {
          "output_type": "stream",
          "text": [
            "Grabbing PID 40934\n"
          ],
          "name": "stdout"
        },
        {
          "output_type": "stream",
          "text": [
            "100%|██████████| 155/155 [00:01<00:00, 82.64it/s]\n"
          ],
          "name": "stderr"
        },
        {
          "output_type": "stream",
          "text": [
            "Grabbing PID 35950\n"
          ],
          "name": "stdout"
        },
        {
          "output_type": "stream",
          "text": [
            "100%|██████████| 155/155 [00:01<00:00, 83.93it/s]\n"
          ],
          "name": "stderr"
        },
        {
          "output_type": "stream",
          "text": [
            "Grabbing PID 35982\n"
          ],
          "name": "stdout"
        },
        {
          "output_type": "stream",
          "text": [
            "100%|██████████| 155/155 [00:01<00:00, 87.05it/s]\n"
          ],
          "name": "stderr"
        },
        {
          "output_type": "stream",
          "text": [
            "Grabbing PID 36048\n"
          ],
          "name": "stdout"
        },
        {
          "output_type": "stream",
          "text": [
            "100%|██████████| 155/155 [00:01<00:00, 84.78it/s]\n"
          ],
          "name": "stderr"
        },
        {
          "output_type": "stream",
          "text": [
            "Grabbing PID 40832\n"
          ],
          "name": "stdout"
        },
        {
          "output_type": "stream",
          "text": [
            "100%|██████████| 155/155 [00:01<00:00, 91.96it/s]\n"
          ],
          "name": "stderr"
        },
        {
          "output_type": "stream",
          "text": [
            "Grabbing PID 36509\n"
          ],
          "name": "stdout"
        },
        {
          "output_type": "stream",
          "text": [
            "100%|██████████| 155/155 [00:01<00:00, 84.40it/s]\n"
          ],
          "name": "stderr"
        },
        {
          "output_type": "stream",
          "text": [
            "Grabbing PID 35590\n"
          ],
          "name": "stdout"
        },
        {
          "output_type": "stream",
          "text": [
            "100%|██████████| 155/155 [00:01<00:00, 82.64it/s]\n"
          ],
          "name": "stderr"
        },
        {
          "output_type": "stream",
          "text": [
            "Grabbing PID 40877\n"
          ],
          "name": "stdout"
        },
        {
          "output_type": "stream",
          "text": [
            "100%|██████████| 155/155 [00:01<00:00, 81.00it/s]\n"
          ],
          "name": "stderr"
        },
        {
          "output_type": "stream",
          "text": [
            "Grabbing PID 36562\n"
          ],
          "name": "stdout"
        },
        {
          "output_type": "stream",
          "text": [
            "100%|██████████| 155/155 [00:01<00:00, 80.83it/s]\n"
          ],
          "name": "stderr"
        },
        {
          "output_type": "stream",
          "text": [
            "Grabbing PID 36541\n"
          ],
          "name": "stdout"
        },
        {
          "output_type": "stream",
          "text": [
            "100%|██████████| 155/155 [00:01<00:00, 90.59it/s]\n"
          ],
          "name": "stderr"
        },
        {
          "output_type": "stream",
          "text": [
            "Grabbing PID 35845\n"
          ],
          "name": "stdout"
        },
        {
          "output_type": "stream",
          "text": [
            "100%|██████████| 155/155 [00:02<00:00, 71.07it/s]\n"
          ],
          "name": "stderr"
        },
        {
          "output_type": "stream",
          "text": [
            "Grabbing PID 41093\n"
          ],
          "name": "stdout"
        },
        {
          "output_type": "stream",
          "text": [
            "100%|██████████| 155/155 [00:01<00:00, 86.43it/s]\n"
          ],
          "name": "stderr"
        },
        {
          "output_type": "stream",
          "text": [
            "Grabbing PID 36598\n"
          ],
          "name": "stdout"
        },
        {
          "output_type": "stream",
          "text": [
            "100%|██████████| 155/155 [00:02<00:00, 73.87it/s]\n"
          ],
          "name": "stderr"
        },
        {
          "output_type": "stream",
          "text": [
            "Grabbing PID 36609\n"
          ],
          "name": "stdout"
        },
        {
          "output_type": "stream",
          "text": [
            "100%|██████████| 155/155 [00:01<00:00, 90.61it/s]\n"
          ],
          "name": "stderr"
        },
        {
          "output_type": "stream",
          "text": [
            "Grabbing PID 35840\n"
          ],
          "name": "stdout"
        },
        {
          "output_type": "stream",
          "text": [
            "100%|██████████| 155/155 [00:01<00:00, 83.65it/s]\n"
          ],
          "name": "stderr"
        },
        {
          "output_type": "stream",
          "text": [
            "Grabbing PID 41043\n"
          ],
          "name": "stdout"
        },
        {
          "output_type": "stream",
          "text": [
            "100%|██████████| 155/155 [00:01<00:00, 87.05it/s]\n"
          ],
          "name": "stderr"
        },
        {
          "output_type": "stream",
          "text": [
            "Grabbing PID 40940\n"
          ],
          "name": "stdout"
        },
        {
          "output_type": "stream",
          "text": [
            "100%|██████████| 155/155 [00:01<00:00, 87.98it/s]\n"
          ],
          "name": "stderr"
        },
        {
          "output_type": "stream",
          "text": [
            "Grabbing PID 41103\n"
          ],
          "name": "stdout"
        },
        {
          "output_type": "stream",
          "text": [
            "100%|██████████| 155/155 [00:02<00:00, 76.49it/s]\n"
          ],
          "name": "stderr"
        },
        {
          "output_type": "stream",
          "text": [
            "Grabbing PID 40943\n"
          ],
          "name": "stdout"
        },
        {
          "output_type": "stream",
          "text": [
            "100%|██████████| 155/155 [00:01<00:00, 81.39it/s]\n"
          ],
          "name": "stderr"
        },
        {
          "output_type": "stream",
          "text": [
            "Grabbing PID 40972\n"
          ],
          "name": "stdout"
        },
        {
          "output_type": "stream",
          "text": [
            "100%|██████████| 155/155 [00:01<00:00, 83.78it/s] \n"
          ],
          "name": "stderr"
        },
        {
          "output_type": "stream",
          "text": [
            "Grabbing PID 40835\n"
          ],
          "name": "stdout"
        },
        {
          "output_type": "stream",
          "text": [
            "100%|██████████| 155/155 [00:01<00:00, 84.23it/s]\n"
          ],
          "name": "stderr"
        },
        {
          "output_type": "stream",
          "text": [
            "Grabbing PID 36246\n"
          ],
          "name": "stdout"
        },
        {
          "output_type": "stream",
          "text": [
            "100%|██████████| 155/155 [00:01<00:00, 79.93it/s]\n"
          ],
          "name": "stderr"
        },
        {
          "output_type": "stream",
          "text": [
            "Grabbing PID 35721\n"
          ],
          "name": "stdout"
        },
        {
          "output_type": "stream",
          "text": [
            "100%|██████████| 155/155 [00:01<00:00, 84.77it/s]\n"
          ],
          "name": "stderr"
        },
        {
          "output_type": "stream",
          "text": [
            "Grabbing PID 36308\n"
          ],
          "name": "stdout"
        },
        {
          "output_type": "stream",
          "text": [
            "100%|██████████| 155/155 [00:01<00:00, 84.86it/s]\n"
          ],
          "name": "stderr"
        },
        {
          "output_type": "stream",
          "text": [
            "Grabbing PID 40821\n"
          ],
          "name": "stdout"
        },
        {
          "output_type": "stream",
          "text": [
            "100%|██████████| 155/155 [00:01<00:00, 83.42it/s]\n"
          ],
          "name": "stderr"
        },
        {
          "output_type": "stream",
          "text": [
            "Grabbing PID 41097\n"
          ],
          "name": "stdout"
        },
        {
          "output_type": "stream",
          "text": [
            "100%|██████████| 155/155 [00:01<00:00, 88.62it/s]\n"
          ],
          "name": "stderr"
        },
        {
          "output_type": "stream",
          "text": [
            "Grabbing PID 35533\n"
          ],
          "name": "stdout"
        },
        {
          "output_type": "stream",
          "text": [
            "100%|██████████| 155/155 [00:01<00:00, 86.20it/s]\n"
          ],
          "name": "stderr"
        },
        {
          "output_type": "stream",
          "text": [
            "Grabbing PID 35821\n"
          ],
          "name": "stdout"
        },
        {
          "output_type": "stream",
          "text": [
            "/home/ec2-user/anaconda3/envs/pytorch_p36/lib/python3.6/site-packages/ipykernel/__main__.py:10: RuntimeWarning: divide by zero encountered in true_divide\n",
            "100%|██████████| 155/155 [00:02<00:00, 77.19it/s]\n"
          ],
          "name": "stderr"
        },
        {
          "output_type": "stream",
          "text": [
            "Grabbing PID 35860\n"
          ],
          "name": "stdout"
        },
        {
          "output_type": "stream",
          "text": [
            "100%|██████████| 155/155 [00:01<00:00, 83.32it/s]\n"
          ],
          "name": "stderr"
        },
        {
          "output_type": "stream",
          "text": [
            "Grabbing PID 36314\n"
          ],
          "name": "stdout"
        },
        {
          "output_type": "stream",
          "text": [
            "100%|██████████| 155/155 [00:01<00:00, 82.75it/s]\n"
          ],
          "name": "stderr"
        },
        {
          "output_type": "stream",
          "text": [
            "Grabbing PID 35754\n"
          ],
          "name": "stdout"
        },
        {
          "output_type": "stream",
          "text": [
            "100%|██████████| 155/155 [00:01<00:00, 81.10it/s]\n"
          ],
          "name": "stderr"
        },
        {
          "output_type": "stream",
          "text": [
            "Grabbing PID 36083\n"
          ],
          "name": "stdout"
        },
        {
          "output_type": "stream",
          "text": [
            "100%|██████████| 155/155 [00:01<00:00, 79.14it/s]\n"
          ],
          "name": "stderr"
        },
        {
          "output_type": "stream",
          "text": [
            "Grabbing PID 36070\n"
          ],
          "name": "stdout"
        },
        {
          "output_type": "stream",
          "text": [
            "100%|██████████| 155/155 [00:01<00:00, 86.72it/s]\n"
          ],
          "name": "stderr"
        },
        {
          "output_type": "stream",
          "text": [
            "Grabbing PID 36521\n"
          ],
          "name": "stdout"
        },
        {
          "output_type": "stream",
          "text": [
            "100%|██████████| 155/155 [00:01<00:00, 84.26it/s]\n"
          ],
          "name": "stderr"
        },
        {
          "output_type": "stream",
          "text": [
            "Grabbing PID 35757\n"
          ],
          "name": "stdout"
        },
        {
          "output_type": "stream",
          "text": [
            "100%|██████████| 155/155 [00:01<00:00, 87.51it/s]\n"
          ],
          "name": "stderr"
        },
        {
          "output_type": "stream",
          "text": [
            "Grabbing PID 40985\n"
          ],
          "name": "stdout"
        },
        {
          "output_type": "stream",
          "text": [
            "100%|██████████| 155/155 [00:02<00:00, 72.08it/s]\n"
          ],
          "name": "stderr"
        },
        {
          "output_type": "stream",
          "text": [
            "Grabbing PID 36112\n"
          ],
          "name": "stdout"
        },
        {
          "output_type": "stream",
          "text": [
            "100%|██████████| 155/155 [00:01<00:00, 92.54it/s]\n"
          ],
          "name": "stderr"
        },
        {
          "output_type": "stream",
          "text": [
            "Grabbing PID 36563\n"
          ],
          "name": "stdout"
        },
        {
          "output_type": "stream",
          "text": [
            "100%|██████████| 155/155 [00:01<00:00, 82.51it/s]\n"
          ],
          "name": "stderr"
        },
        {
          "output_type": "stream",
          "text": [
            "Grabbing PID 35907\n"
          ],
          "name": "stdout"
        },
        {
          "output_type": "stream",
          "text": [
            "100%|██████████| 155/155 [00:01<00:00, 84.15it/s]\n"
          ],
          "name": "stderr"
        },
        {
          "output_type": "stream",
          "text": [
            "Grabbing PID 35610\n"
          ],
          "name": "stdout"
        },
        {
          "output_type": "stream",
          "text": [
            "100%|██████████| 155/155 [00:01<00:00, 78.51it/s]\n"
          ],
          "name": "stderr"
        },
        {
          "output_type": "stream",
          "text": [
            "Grabbing PID 40897\n"
          ],
          "name": "stdout"
        },
        {
          "output_type": "stream",
          "text": [
            "100%|██████████| 155/155 [00:01<00:00, 83.19it/s]\n"
          ],
          "name": "stderr"
        },
        {
          "output_type": "stream",
          "text": [
            "Grabbing PID 35575\n"
          ],
          "name": "stdout"
        },
        {
          "output_type": "stream",
          "text": [
            "100%|██████████| 155/155 [00:01<00:00, 85.14it/s]\n"
          ],
          "name": "stderr"
        },
        {
          "output_type": "stream",
          "text": [
            "Grabbing PID 35561\n"
          ],
          "name": "stdout"
        },
        {
          "output_type": "stream",
          "text": [
            "100%|██████████| 155/155 [00:01<00:00, 88.80it/s]\n"
          ],
          "name": "stderr"
        },
        {
          "output_type": "stream",
          "text": [
            "Grabbing PID 36136\n"
          ],
          "name": "stdout"
        },
        {
          "output_type": "stream",
          "text": [
            "100%|██████████| 155/155 [00:01<00:00, 90.68it/s]\n"
          ],
          "name": "stderr"
        },
        {
          "output_type": "stream",
          "text": [
            "Grabbing PID 36231\n"
          ],
          "name": "stdout"
        },
        {
          "output_type": "stream",
          "text": [
            "100%|██████████| 155/155 [00:01<00:00, 78.97it/s]\n"
          ],
          "name": "stderr"
        },
        {
          "output_type": "stream",
          "text": [
            "Grabbing PID 35675\n"
          ],
          "name": "stdout"
        },
        {
          "output_type": "stream",
          "text": [
            "100%|██████████| 155/155 [00:01<00:00, 85.41it/s]\n"
          ],
          "name": "stderr"
        },
        {
          "output_type": "stream",
          "text": [
            "Grabbing PID 36578\n"
          ],
          "name": "stdout"
        },
        {
          "output_type": "stream",
          "text": [
            "100%|██████████| 155/155 [00:01<00:00, 98.18it/s] \n"
          ],
          "name": "stderr"
        },
        {
          "output_type": "stream",
          "text": [
            "Grabbing PID 36558\n"
          ],
          "name": "stdout"
        },
        {
          "output_type": "stream",
          "text": [
            "100%|██████████| 155/155 [00:01<00:00, 94.49it/s]\n"
          ],
          "name": "stderr"
        },
        {
          "output_type": "stream",
          "text": [
            "Grabbing PID 36218\n"
          ],
          "name": "stdout"
        },
        {
          "output_type": "stream",
          "text": [
            "100%|██████████| 155/155 [00:01<00:00, 84.06it/s]\n"
          ],
          "name": "stderr"
        },
        {
          "output_type": "stream",
          "text": [
            "Grabbing PID 36553\n"
          ],
          "name": "stdout"
        },
        {
          "output_type": "stream",
          "text": [
            "100%|██████████| 155/155 [00:01<00:00, 79.87it/s]\n"
          ],
          "name": "stderr"
        },
        {
          "output_type": "stream",
          "text": [
            "Grabbing PID 36139\n"
          ],
          "name": "stdout"
        },
        {
          "output_type": "stream",
          "text": [
            "100%|██████████| 155/155 [00:01<00:00, 83.72it/s]\n"
          ],
          "name": "stderr"
        },
        {
          "output_type": "stream",
          "text": [
            "Grabbing PID 35627\n"
          ],
          "name": "stdout"
        },
        {
          "output_type": "stream",
          "text": [
            "100%|██████████| 155/155 [00:01<00:00, 77.93it/s]\n"
          ],
          "name": "stderr"
        },
        {
          "output_type": "stream",
          "text": [
            "Grabbing PID 36016\n"
          ],
          "name": "stdout"
        },
        {
          "output_type": "stream",
          "text": [
            "100%|██████████| 155/155 [00:01<00:00, 95.86it/s]\n"
          ],
          "name": "stderr"
        },
        {
          "output_type": "stream",
          "text": [
            "Grabbing PID 36105\n"
          ],
          "name": "stdout"
        },
        {
          "output_type": "stream",
          "text": [
            "100%|██████████| 155/155 [00:01<00:00, 92.05it/s]\n"
          ],
          "name": "stderr"
        },
        {
          "output_type": "stream",
          "text": [
            "Grabbing PID 41132\n"
          ],
          "name": "stdout"
        },
        {
          "output_type": "stream",
          "text": [
            "100%|██████████| 155/155 [00:02<00:00, 73.42it/s]\n"
          ],
          "name": "stderr"
        },
        {
          "output_type": "stream",
          "text": [
            "Grabbing PID 41007\n"
          ],
          "name": "stdout"
        },
        {
          "output_type": "stream",
          "text": [
            "100%|██████████| 155/155 [00:02<00:00, 73.76it/s]\n"
          ],
          "name": "stderr"
        },
        {
          "output_type": "stream",
          "text": [
            "Grabbing PID 36594\n"
          ],
          "name": "stdout"
        },
        {
          "output_type": "stream",
          "text": [
            "100%|██████████| 155/155 [00:01<00:00, 92.76it/s]\n"
          ],
          "name": "stderr"
        },
        {
          "output_type": "stream",
          "text": [
            "Grabbing PID 36567\n"
          ],
          "name": "stdout"
        },
        {
          "output_type": "stream",
          "text": [
            "100%|██████████| 155/155 [00:01<00:00, 77.78it/s]\n"
          ],
          "name": "stderr"
        },
        {
          "output_type": "stream",
          "text": [
            "Grabbing PID 35870\n"
          ],
          "name": "stdout"
        },
        {
          "output_type": "stream",
          "text": [
            "100%|██████████| 155/155 [00:01<00:00, 88.34it/s]\n"
          ],
          "name": "stderr"
        },
        {
          "output_type": "stream",
          "text": [
            "Grabbing PID 36603\n"
          ],
          "name": "stdout"
        },
        {
          "output_type": "stream",
          "text": [
            "100%|██████████| 155/155 [00:02<00:00, 74.74it/s]\n"
          ],
          "name": "stderr"
        },
        {
          "output_type": "stream",
          "text": [
            "Grabbing PID 36285\n"
          ],
          "name": "stdout"
        },
        {
          "output_type": "stream",
          "text": [
            "100%|██████████| 155/155 [00:01<00:00, 87.73it/s]\n"
          ],
          "name": "stderr"
        },
        {
          "output_type": "stream",
          "text": [
            "Grabbing PID 35661\n"
          ],
          "name": "stdout"
        },
        {
          "output_type": "stream",
          "text": [
            "100%|██████████| 155/155 [00:01<00:00, 77.70it/s]\n"
          ],
          "name": "stderr"
        },
        {
          "output_type": "stream",
          "text": [
            "Grabbing PID 41636\n"
          ],
          "name": "stdout"
        },
        {
          "output_type": "stream",
          "text": [
            "100%|██████████| 155/155 [00:01<00:00, 88.65it/s]\n"
          ],
          "name": "stderr"
        },
        {
          "output_type": "stream",
          "text": [
            "Grabbing PID 36252\n"
          ],
          "name": "stdout"
        },
        {
          "output_type": "stream",
          "text": [
            "100%|██████████| 155/155 [00:01<00:00, 82.68it/s]\n"
          ],
          "name": "stderr"
        },
        {
          "output_type": "stream",
          "text": [
            "Grabbing PID 41055\n"
          ],
          "name": "stdout"
        },
        {
          "output_type": "stream",
          "text": [
            "100%|██████████| 155/155 [00:01<00:00, 92.42it/s] \n"
          ],
          "name": "stderr"
        },
        {
          "output_type": "stream",
          "text": [
            "Grabbing PID 36440\n"
          ],
          "name": "stdout"
        },
        {
          "output_type": "stream",
          "text": [
            "100%|██████████| 155/155 [00:01<00:00, 80.95it/s]\n"
          ],
          "name": "stderr"
        },
        {
          "output_type": "stream",
          "text": [
            "Grabbing PID 35620\n"
          ],
          "name": "stdout"
        },
        {
          "output_type": "stream",
          "text": [
            "100%|██████████| 155/155 [00:01<00:00, 86.01it/s]\n"
          ],
          "name": "stderr"
        },
        {
          "output_type": "stream",
          "text": [
            "Grabbing PID 36143\n"
          ],
          "name": "stdout"
        },
        {
          "output_type": "stream",
          "text": [
            "100%|██████████| 155/155 [00:01<00:00, 87.71it/s]\n"
          ],
          "name": "stderr"
        },
        {
          "output_type": "stream",
          "text": [
            "Grabbing PID 36060\n"
          ],
          "name": "stdout"
        },
        {
          "output_type": "stream",
          "text": [
            "100%|██████████| 155/155 [00:01<00:00, 84.58it/s]\n"
          ],
          "name": "stderr"
        },
        {
          "output_type": "stream",
          "text": [
            "Grabbing PID 35678\n"
          ],
          "name": "stdout"
        },
        {
          "output_type": "stream",
          "text": [
            "100%|██████████| 155/155 [00:01<00:00, 81.09it/s]\n"
          ],
          "name": "stderr"
        },
        {
          "output_type": "stream",
          "text": [
            "Grabbing PID 35683\n"
          ],
          "name": "stdout"
        },
        {
          "output_type": "stream",
          "text": [
            "100%|██████████| 155/155 [00:01<00:00, 88.99it/s]\n"
          ],
          "name": "stderr"
        },
        {
          "output_type": "stream",
          "text": [
            "Grabbing PID 36028\n"
          ],
          "name": "stdout"
        },
        {
          "output_type": "stream",
          "text": [
            "100%|██████████| 155/155 [00:01<00:00, 92.35it/s]\n"
          ],
          "name": "stderr"
        },
        {
          "output_type": "stream",
          "text": [
            "Grabbing PID 35925\n"
          ],
          "name": "stdout"
        },
        {
          "output_type": "stream",
          "text": [
            "100%|██████████| 155/155 [00:01<00:00, 89.98it/s] \n"
          ],
          "name": "stderr"
        },
        {
          "output_type": "stream",
          "text": [
            "Grabbing PID 36299\n"
          ],
          "name": "stdout"
        },
        {
          "output_type": "stream",
          "text": [
            "100%|██████████| 155/155 [00:01<00:00, 85.09it/s] \n"
          ],
          "name": "stderr"
        },
        {
          "output_type": "stream",
          "text": [
            "Grabbing PID 35792\n"
          ],
          "name": "stdout"
        },
        {
          "output_type": "stream",
          "text": [
            "100%|██████████| 155/155 [00:02<00:00, 71.14it/s]\n"
          ],
          "name": "stderr"
        },
        {
          "output_type": "stream",
          "text": [
            "Grabbing PID 41031\n"
          ],
          "name": "stdout"
        },
        {
          "output_type": "stream",
          "text": [
            "100%|██████████| 155/155 [00:01<00:00, 78.97it/s]\n"
          ],
          "name": "stderr"
        },
        {
          "output_type": "stream",
          "text": [
            "Grabbing PID 40928\n"
          ],
          "name": "stdout"
        },
        {
          "output_type": "stream",
          "text": [
            "100%|██████████| 155/155 [00:01<00:00, 78.09it/s]\n"
          ],
          "name": "stderr"
        },
        {
          "output_type": "stream",
          "text": [
            "Grabbing PID 36205\n"
          ],
          "name": "stdout"
        },
        {
          "output_type": "stream",
          "text": [
            "100%|██████████| 155/155 [00:01<00:00, 81.83it/s]\n"
          ],
          "name": "stderr"
        },
        {
          "output_type": "stream",
          "text": [
            "Grabbing PID 36204\n"
          ],
          "name": "stdout"
        },
        {
          "output_type": "stream",
          "text": [
            "100%|██████████| 155/155 [00:02<00:00, 76.59it/s]\n"
          ],
          "name": "stderr"
        },
        {
          "output_type": "stream",
          "text": [
            "Grabbing PID 35886\n"
          ],
          "name": "stdout"
        },
        {
          "output_type": "stream",
          "text": [
            "100%|██████████| 155/155 [00:01<00:00, 89.92it/s]\n"
          ],
          "name": "stderr"
        },
        {
          "output_type": "stream",
          "text": [
            "Grabbing PID 35776\n"
          ],
          "name": "stdout"
        },
        {
          "output_type": "stream",
          "text": [
            "100%|██████████| 155/155 [00:02<00:00, 69.97it/s]\n"
          ],
          "name": "stderr"
        },
        {
          "output_type": "stream",
          "text": [
            "Grabbing PID 36091\n"
          ],
          "name": "stdout"
        },
        {
          "output_type": "stream",
          "text": [
            "100%|██████████| 155/155 [00:01<00:00, 83.97it/s]\n"
          ],
          "name": "stderr"
        },
        {
          "output_type": "stream",
          "text": [
            "Grabbing PID 35724\n"
          ],
          "name": "stdout"
        },
        {
          "output_type": "stream",
          "text": [
            "100%|██████████| 155/155 [00:01<00:00, 81.51it/s]\n"
          ],
          "name": "stderr"
        },
        {
          "output_type": "stream",
          "text": [
            "Grabbing PID 35858\n"
          ],
          "name": "stdout"
        },
        {
          "output_type": "stream",
          "text": [
            "100%|██████████| 155/155 [00:01<00:00, 84.78it/s]\n"
          ],
          "name": "stderr"
        },
        {
          "output_type": "stream",
          "text": [
            "Grabbing PID 36093\n"
          ],
          "name": "stdout"
        },
        {
          "output_type": "stream",
          "text": [
            "100%|██████████| 155/155 [00:01<00:00, 87.19it/s]\n"
          ],
          "name": "stderr"
        },
        {
          "output_type": "stream",
          "text": [
            "Grabbing PID 57800\n"
          ],
          "name": "stdout"
        },
        {
          "output_type": "stream",
          "text": [
            "100%|██████████| 155/155 [00:01<00:00, 79.82it/s]\n"
          ],
          "name": "stderr"
        },
        {
          "output_type": "stream",
          "text": [
            "Grabbing PID 35658\n"
          ],
          "name": "stdout"
        },
        {
          "output_type": "stream",
          "text": [
            "100%|██████████| 155/155 [00:01<00:00, 85.95it/s]\n"
          ],
          "name": "stderr"
        },
        {
          "output_type": "stream",
          "text": [
            "Grabbing PID 35693\n"
          ],
          "name": "stdout"
        },
        {
          "output_type": "stream",
          "text": [
            "100%|██████████| 155/155 [00:01<00:00, 85.66it/s]\n"
          ],
          "name": "stderr"
        },
        {
          "output_type": "stream",
          "text": [
            "Grabbing PID 40987\n"
          ],
          "name": "stdout"
        },
        {
          "output_type": "stream",
          "text": [
            "100%|██████████| 155/155 [00:01<00:00, 78.42it/s]\n"
          ],
          "name": "stderr"
        },
        {
          "output_type": "stream",
          "text": [
            "Grabbing PID 40998\n"
          ],
          "name": "stdout"
        },
        {
          "output_type": "stream",
          "text": [
            "100%|██████████| 155/155 [00:01<00:00, 85.43it/s]\n"
          ],
          "name": "stderr"
        },
        {
          "output_type": "stream",
          "text": [
            "Grabbing PID 41021\n"
          ],
          "name": "stdout"
        },
        {
          "output_type": "stream",
          "text": [
            "100%|██████████| 155/155 [00:01<00:00, 85.21it/s]\n"
          ],
          "name": "stderr"
        },
        {
          "output_type": "stream",
          "text": [
            "Grabbing PID 36168\n"
          ],
          "name": "stdout"
        },
        {
          "output_type": "stream",
          "text": [
            "100%|██████████| 155/155 [00:02<00:00, 73.11it/s]\n"
          ],
          "name": "stderr"
        },
        {
          "output_type": "stream",
          "text": [
            "Grabbing PID 40872\n"
          ],
          "name": "stdout"
        },
        {
          "output_type": "stream",
          "text": [
            "100%|██████████| 155/155 [00:01<00:00, 80.76it/s]\n"
          ],
          "name": "stderr"
        },
        {
          "output_type": "stream",
          "text": [
            "Grabbing PID 35633\n"
          ],
          "name": "stdout"
        },
        {
          "output_type": "stream",
          "text": [
            "100%|██████████| 155/155 [00:02<00:00, 76.37it/s]\n"
          ],
          "name": "stderr"
        },
        {
          "output_type": "stream",
          "text": [
            "Grabbing PID 35552\n"
          ],
          "name": "stdout"
        },
        {
          "output_type": "stream",
          "text": [
            "100%|██████████| 155/155 [00:01<00:00, 80.86it/s]\n"
          ],
          "name": "stderr"
        },
        {
          "output_type": "stream",
          "text": [
            "Grabbing PID 35565\n"
          ],
          "name": "stdout"
        },
        {
          "output_type": "stream",
          "text": [
            "100%|██████████| 155/155 [00:01<00:00, 79.70it/s]\n"
          ],
          "name": "stderr"
        },
        {
          "output_type": "stream",
          "text": [
            "Grabbing PID 35617\n"
          ],
          "name": "stdout"
        },
        {
          "output_type": "stream",
          "text": [
            "100%|██████████| 155/155 [00:01<00:00, 81.64it/s]\n"
          ],
          "name": "stderr"
        },
        {
          "output_type": "stream",
          "text": [
            "Grabbing PID 36289\n"
          ],
          "name": "stdout"
        },
        {
          "output_type": "stream",
          "text": [
            "100%|██████████| 155/155 [00:02<00:00, 74.41it/s]\n"
          ],
          "name": "stderr"
        },
        {
          "output_type": "stream",
          "text": [
            "Grabbing PID 35638\n"
          ],
          "name": "stdout"
        },
        {
          "output_type": "stream",
          "text": [
            "100%|██████████| 155/155 [00:01<00:00, 80.79it/s]\n"
          ],
          "name": "stderr"
        },
        {
          "output_type": "stream",
          "text": [
            "Grabbing PID 35803\n"
          ],
          "name": "stdout"
        },
        {
          "output_type": "stream",
          "text": [
            "100%|██████████| 155/155 [00:01<00:00, 87.61it/s]\n"
          ],
          "name": "stderr"
        },
        {
          "output_type": "stream",
          "text": [
            "Grabbing PID 35598\n"
          ],
          "name": "stdout"
        },
        {
          "output_type": "stream",
          "text": [
            "100%|██████████| 155/155 [00:01<00:00, 82.35it/s]\n"
          ],
          "name": "stderr"
        },
        {
          "output_type": "stream",
          "text": [
            "Grabbing PID 35997\n"
          ],
          "name": "stdout"
        },
        {
          "output_type": "stream",
          "text": [
            "100%|██████████| 155/155 [00:01<00:00, 85.43it/s]\n"
          ],
          "name": "stderr"
        },
        {
          "output_type": "stream",
          "text": [
            "Grabbing PID 35602\n"
          ],
          "name": "stdout"
        },
        {
          "output_type": "stream",
          "text": [
            "100%|██████████| 155/155 [00:02<00:00, 77.49it/s]\n"
          ],
          "name": "stderr"
        },
        {
          "output_type": "stream",
          "text": [
            "Grabbing PID 36009\n"
          ],
          "name": "stdout"
        },
        {
          "output_type": "stream",
          "text": [
            "100%|██████████| 155/155 [00:01<00:00, 84.80it/s]\n"
          ],
          "name": "stderr"
        },
        {
          "output_type": "stream",
          "text": [
            "Grabbing PID 40860\n"
          ],
          "name": "stdout"
        },
        {
          "output_type": "stream",
          "text": [
            "100%|██████████| 155/155 [00:01<00:00, 86.26it/s]\n"
          ],
          "name": "stderr"
        },
        {
          "output_type": "stream",
          "text": [
            "Grabbing PID 35708\n"
          ],
          "name": "stdout"
        },
        {
          "output_type": "stream",
          "text": [
            "100%|██████████| 155/155 [00:01<00:00, 91.03it/s]\n"
          ],
          "name": "stderr"
        },
        {
          "output_type": "stream",
          "text": [
            "Grabbing PID 40903\n"
          ],
          "name": "stdout"
        },
        {
          "output_type": "stream",
          "text": [
            "100%|██████████| 155/155 [00:02<00:00, 76.58it/s]\n"
          ],
          "name": "stderr"
        },
        {
          "output_type": "stream",
          "text": [
            "Grabbing PID 35651\n"
          ],
          "name": "stdout"
        },
        {
          "output_type": "stream",
          "text": [
            "100%|██████████| 155/155 [00:01<00:00, 86.94it/s]\n"
          ],
          "name": "stderr"
        },
        {
          "output_type": "stream",
          "text": [
            "Grabbing PID 36321\n"
          ],
          "name": "stdout"
        },
        {
          "output_type": "stream",
          "text": [
            "100%|██████████| 155/155 [00:01<00:00, 78.71it/s]\n"
          ],
          "name": "stderr"
        },
        {
          "output_type": "stream",
          "text": [
            "Grabbing PID 36103\n"
          ],
          "name": "stdout"
        },
        {
          "output_type": "stream",
          "text": [
            "100%|██████████| 155/155 [00:01<00:00, 92.97it/s]\n"
          ],
          "name": "stderr"
        },
        {
          "output_type": "stream",
          "text": [
            "Grabbing PID 35580\n"
          ],
          "name": "stdout"
        },
        {
          "output_type": "stream",
          "text": [
            "100%|██████████| 155/155 [00:01<00:00, 82.41it/s]\n"
          ],
          "name": "stderr"
        },
        {
          "output_type": "stream",
          "text": [
            "Grabbing PID 35736\n"
          ],
          "name": "stdout"
        },
        {
          "output_type": "stream",
          "text": [
            "100%|██████████| 155/155 [00:01<00:00, 79.45it/s]\n"
          ],
          "name": "stderr"
        },
        {
          "output_type": "stream",
          "text": [
            "Grabbing PID 36616\n"
          ],
          "name": "stdout"
        },
        {
          "output_type": "stream",
          "text": [
            "100%|██████████| 155/155 [00:01<00:00, 79.81it/s]\n"
          ],
          "name": "stderr"
        },
        {
          "output_type": "stream",
          "text": [
            "Grabbing PID 36018\n"
          ],
          "name": "stdout"
        },
        {
          "output_type": "stream",
          "text": [
            "100%|██████████| 155/155 [00:01<00:00, 85.28it/s]\n"
          ],
          "name": "stderr"
        },
        {
          "output_type": "stream",
          "text": [
            "Grabbing PID 35850\n"
          ],
          "name": "stdout"
        },
        {
          "output_type": "stream",
          "text": [
            "100%|██████████| 155/155 [00:01<00:00, 78.23it/s]\n"
          ],
          "name": "stderr"
        },
        {
          "output_type": "stream",
          "text": [
            "Grabbing PID 35901\n"
          ],
          "name": "stdout"
        },
        {
          "output_type": "stream",
          "text": [
            "100%|██████████| 155/155 [00:02<00:00, 76.05it/s]\n"
          ],
          "name": "stderr"
        },
        {
          "output_type": "stream",
          "text": [
            "Grabbing PID 40979\n"
          ],
          "name": "stdout"
        },
        {
          "output_type": "stream",
          "text": [
            "100%|██████████| 155/155 [00:01<00:00, 84.09it/s]\n"
          ],
          "name": "stderr"
        },
        {
          "output_type": "stream",
          "text": [
            "Grabbing PID 35910\n"
          ],
          "name": "stdout"
        },
        {
          "output_type": "stream",
          "text": [
            "100%|██████████| 155/155 [00:01<00:00, 80.58it/s]\n"
          ],
          "name": "stderr"
        },
        {
          "output_type": "stream",
          "text": [
            "Grabbing PID 36233\n"
          ],
          "name": "stdout"
        },
        {
          "output_type": "stream",
          "text": [
            "100%|██████████| 155/155 [00:01<00:00, 86.68it/s]\n"
          ],
          "name": "stderr"
        },
        {
          "output_type": "stream",
          "text": [
            "Grabbing PID 35933\n"
          ],
          "name": "stdout"
        },
        {
          "output_type": "stream",
          "text": [
            "100%|██████████| 155/155 [00:01<00:00, 82.41it/s]\n"
          ],
          "name": "stderr"
        },
        {
          "output_type": "stream",
          "text": [
            "Grabbing PID 36078\n"
          ],
          "name": "stdout"
        },
        {
          "output_type": "stream",
          "text": [
            "100%|██████████| 155/155 [00:01<00:00, 88.97it/s]\n"
          ],
          "name": "stderr"
        },
        {
          "output_type": "stream",
          "text": [
            "Grabbing PID 36151\n"
          ],
          "name": "stdout"
        },
        {
          "output_type": "stream",
          "text": [
            "100%|██████████| 155/155 [00:02<00:00, 76.76it/s]\n"
          ],
          "name": "stderr"
        },
        {
          "output_type": "stream",
          "text": [
            "Grabbing PID 40958\n"
          ],
          "name": "stdout"
        },
        {
          "output_type": "stream",
          "text": [
            "100%|██████████| 155/155 [00:01<00:00, 96.01it/s]\n"
          ],
          "name": "stderr"
        },
        {
          "output_type": "stream",
          "text": [
            "Grabbing PID 36215\n"
          ],
          "name": "stdout"
        },
        {
          "output_type": "stream",
          "text": [
            "100%|██████████| 155/155 [00:01<00:00, 77.59it/s]\n"
          ],
          "name": "stderr"
        },
        {
          "output_type": "stream",
          "text": [
            "Grabbing PID 36533\n"
          ],
          "name": "stdout"
        },
        {
          "output_type": "stream",
          "text": [
            "100%|██████████| 155/155 [00:01<00:00, 86.34it/s]\n"
          ],
          "name": "stderr"
        },
        {
          "output_type": "stream",
          "text": [
            "Grabbing PID 41237\n"
          ],
          "name": "stdout"
        },
        {
          "output_type": "stream",
          "text": [
            "100%|██████████| 155/155 [00:02<00:00, 65.30it/s]\n"
          ],
          "name": "stderr"
        },
        {
          "output_type": "stream",
          "text": [
            "Grabbing PID 41113\n"
          ],
          "name": "stdout"
        },
        {
          "output_type": "stream",
          "text": [
            "100%|██████████| 155/155 [00:01<00:00, 86.05it/s]\n"
          ],
          "name": "stderr"
        },
        {
          "output_type": "stream",
          "text": [
            "Grabbing PID 41119\n"
          ],
          "name": "stdout"
        },
        {
          "output_type": "stream",
          "text": [
            "100%|██████████| 155/155 [00:01<00:00, 84.17it/s]\n"
          ],
          "name": "stderr"
        },
        {
          "output_type": "stream",
          "text": [
            "Grabbing PID 35995\n"
          ],
          "name": "stdout"
        },
        {
          "output_type": "stream",
          "text": [
            "100%|██████████| 155/155 [00:01<00:00, 78.81it/s]\n"
          ],
          "name": "stderr"
        },
        {
          "output_type": "stream",
          "text": [
            "Grabbing PID 36546\n"
          ],
          "name": "stdout"
        },
        {
          "output_type": "stream",
          "text": [
            "100%|██████████| 155/155 [00:01<00:00, 84.58it/s]\n"
          ],
          "name": "stderr"
        },
        {
          "output_type": "stream",
          "text": [
            "Grabbing PID 35805\n"
          ],
          "name": "stdout"
        },
        {
          "output_type": "stream",
          "text": [
            "100%|██████████| 155/155 [00:01<00:00, 79.22it/s]\n"
          ],
          "name": "stderr"
        },
        {
          "output_type": "stream",
          "text": [
            "Grabbing PID 36537\n"
          ],
          "name": "stdout"
        },
        {
          "output_type": "stream",
          "text": [
            "100%|██████████| 155/155 [00:01<00:00, 89.53it/s]\n"
          ],
          "name": "stderr"
        },
        {
          "output_type": "stream",
          "text": [
            "Grabbing PID 36097\n"
          ],
          "name": "stdout"
        },
        {
          "output_type": "stream",
          "text": [
            "100%|██████████| 155/155 [00:02<00:00, 73.94it/s]\n"
          ],
          "name": "stderr"
        },
        {
          "output_type": "stream",
          "text": [
            "Grabbing PID 35554\n"
          ],
          "name": "stdout"
        },
        {
          "output_type": "stream",
          "text": [
            "100%|██████████| 155/155 [00:01<00:00, 88.44it/s]\n"
          ],
          "name": "stderr"
        },
        {
          "output_type": "stream",
          "text": [
            "Grabbing PID 36589\n"
          ],
          "name": "stdout"
        },
        {
          "output_type": "stream",
          "text": [
            "100%|██████████| 155/155 [00:02<00:00, 75.23it/s]\n"
          ],
          "name": "stderr"
        },
        {
          "output_type": "stream",
          "text": [
            "Grabbing PID 36582\n"
          ],
          "name": "stdout"
        },
        {
          "output_type": "stream",
          "text": [
            "100%|██████████| 155/155 [00:01<00:00, 77.92it/s]\n"
          ],
          "name": "stderr"
        },
        {
          "output_type": "stream",
          "text": [
            "Grabbing PID 36181\n"
          ],
          "name": "stdout"
        },
        {
          "output_type": "stream",
          "text": [
            "100%|██████████| 155/155 [00:01<00:00, 84.43it/s]\n"
          ],
          "name": "stderr"
        },
        {
          "output_type": "stream",
          "text": [
            "Grabbing PID 36574\n"
          ],
          "name": "stdout"
        },
        {
          "output_type": "stream",
          "text": [
            "100%|██████████| 155/155 [00:01<00:00, 86.27it/s] \n"
          ],
          "name": "stderr"
        },
        {
          "output_type": "stream",
          "text": [
            "Grabbing PID 40977\n"
          ],
          "name": "stdout"
        },
        {
          "output_type": "stream",
          "text": [
            "100%|██████████| 155/155 [00:01<00:00, 81.65it/s]\n"
          ],
          "name": "stderr"
        },
        {
          "output_type": "stream",
          "text": [
            "Grabbing PID 36243\n"
          ],
          "name": "stdout"
        },
        {
          "output_type": "stream",
          "text": [
            "100%|██████████| 155/155 [00:01<00:00, 81.06it/s]\n"
          ],
          "name": "stderr"
        },
        {
          "output_type": "stream",
          "text": [
            "Grabbing PID 36162\n"
          ],
          "name": "stdout"
        },
        {
          "output_type": "stream",
          "text": [
            "100%|██████████| 155/155 [00:01<00:00, 91.73it/s]\n"
          ],
          "name": "stderr"
        },
        {
          "output_type": "stream",
          "text": [
            "Grabbing PID 40935\n"
          ],
          "name": "stdout"
        },
        {
          "output_type": "stream",
          "text": [
            "100%|██████████| 155/155 [00:01<00:00, 81.43it/s]\n"
          ],
          "name": "stderr"
        },
        {
          "output_type": "stream",
          "text": [
            "Grabbing PID 36274\n"
          ],
          "name": "stdout"
        },
        {
          "output_type": "stream",
          "text": [
            "100%|██████████| 155/155 [00:01<00:00, 78.90it/s]\n"
          ],
          "name": "stderr"
        },
        {
          "output_type": "stream",
          "text": [
            "Grabbing PID 36157\n"
          ],
          "name": "stdout"
        },
        {
          "output_type": "stream",
          "text": [
            "100%|██████████| 155/155 [00:01<00:00, 84.13it/s] \n"
          ],
          "name": "stderr"
        },
        {
          "output_type": "stream",
          "text": [
            "Grabbing PID 40864\n"
          ],
          "name": "stdout"
        },
        {
          "output_type": "stream",
          "text": [
            "100%|██████████| 155/155 [00:02<00:00, 76.03it/s]\n"
          ],
          "name": "stderr"
        },
        {
          "output_type": "stream",
          "text": [
            "Grabbing PID 40964\n"
          ],
          "name": "stdout"
        },
        {
          "output_type": "stream",
          "text": [
            "100%|██████████| 155/155 [00:01<00:00, 80.69it/s]\n"
          ],
          "name": "stderr"
        },
        {
          "output_type": "stream",
          "text": [
            "Grabbing PID 40910\n"
          ],
          "name": "stdout"
        },
        {
          "output_type": "stream",
          "text": [
            "100%|██████████| 155/155 [00:01<00:00, 88.17it/s]\n"
          ],
          "name": "stderr"
        },
        {
          "output_type": "stream",
          "text": [
            "Grabbing PID 35666\n"
          ],
          "name": "stdout"
        },
        {
          "output_type": "stream",
          "text": [
            "100%|██████████| 155/155 [00:01<00:00, 82.93it/s]\n"
          ],
          "name": "stderr"
        },
        {
          "output_type": "stream",
          "text": [
            "Grabbing PID 40849\n"
          ],
          "name": "stdout"
        },
        {
          "output_type": "stream",
          "text": [
            "100%|██████████| 155/155 [00:01<00:00, 86.49it/s]\n"
          ],
          "name": "stderr"
        },
        {
          "output_type": "stream",
          "text": [
            "Grabbing PID 35732\n"
          ],
          "name": "stdout"
        },
        {
          "output_type": "stream",
          "text": [
            "100%|██████████| 155/155 [00:01<00:00, 89.17it/s]\n"
          ],
          "name": "stderr"
        },
        {
          "output_type": "stream",
          "text": [
            "Grabbing PID 36283\n"
          ],
          "name": "stdout"
        },
        {
          "output_type": "stream",
          "text": [
            "100%|██████████| 155/155 [00:01<00:00, 89.89it/s]\n"
          ],
          "name": "stderr"
        },
        {
          "output_type": "stream",
          "text": [
            "Grabbing PID 36074\n"
          ],
          "name": "stdout"
        },
        {
          "output_type": "stream",
          "text": [
            "100%|██████████| 155/155 [00:01<00:00, 82.81it/s]\n"
          ],
          "name": "stderr"
        },
        {
          "output_type": "stream",
          "text": [
            "Grabbing PID 36222\n"
          ],
          "name": "stdout"
        },
        {
          "output_type": "stream",
          "text": [
            "100%|██████████| 155/155 [00:01<00:00, 83.20it/s]\n"
          ],
          "name": "stderr"
        },
        {
          "output_type": "stream",
          "text": [
            "Grabbing PID 36173\n"
          ],
          "name": "stdout"
        },
        {
          "output_type": "stream",
          "text": [
            "100%|██████████| 155/155 [00:02<00:00, 77.45it/s]\n"
          ],
          "name": "stderr"
        },
        {
          "output_type": "stream",
          "text": [
            "Grabbing PID 35760\n"
          ],
          "name": "stdout"
        },
        {
          "output_type": "stream",
          "text": [
            "100%|██████████| 155/155 [00:01<00:00, 83.80it/s]\n"
          ],
          "name": "stderr"
        },
        {
          "output_type": "stream",
          "text": [
            "Grabbing PID 35644\n"
          ],
          "name": "stdout"
        },
        {
          "output_type": "stream",
          "text": [
            "100%|██████████| 155/155 [00:01<00:00, 80.83it/s]\n"
          ],
          "name": "stderr"
        },
        {
          "output_type": "stream",
          "text": [
            "Grabbing PID 36527\n"
          ],
          "name": "stdout"
        },
        {
          "output_type": "stream",
          "text": [
            "100%|██████████| 155/155 [00:01<00:00, 86.93it/s]\n"
          ],
          "name": "stderr"
        },
        {
          "output_type": "stream",
          "text": [
            "Grabbing PID 36623\n"
          ],
          "name": "stdout"
        },
        {
          "output_type": "stream",
          "text": [
            "100%|██████████| 155/155 [00:01<00:00, 78.54it/s]\n"
          ],
          "name": "stderr"
        },
        {
          "output_type": "stream",
          "text": [
            "Grabbing PID 40919\n"
          ],
          "name": "stdout"
        },
        {
          "output_type": "stream",
          "text": [
            "100%|██████████| 155/155 [00:01<00:00, 87.61it/s]\n"
          ],
          "name": "stderr"
        },
        {
          "output_type": "stream",
          "text": [
            "Grabbing PID 35539\n"
          ],
          "name": "stdout"
        },
        {
          "output_type": "stream",
          "text": [
            "100%|██████████| 155/155 [00:01<00:00, 93.93it/s]\n"
          ],
          "name": "stderr"
        },
        {
          "output_type": "stream",
          "text": [
            "Grabbing PID 35544\n"
          ],
          "name": "stdout"
        },
        {
          "output_type": "stream",
          "text": [
            "100%|██████████| 155/155 [00:01<00:00, 86.44it/s]\n"
          ],
          "name": "stderr"
        },
        {
          "output_type": "stream",
          "text": [
            "Grabbing PID 41126\n"
          ],
          "name": "stdout"
        },
        {
          "output_type": "stream",
          "text": [
            "100%|██████████| 155/155 [00:02<00:00, 76.63it/s]\n"
          ],
          "name": "stderr"
        },
        {
          "output_type": "stream",
          "text": [
            "Grabbing PID 36193\n"
          ],
          "name": "stdout"
        },
        {
          "output_type": "stream",
          "text": [
            "100%|██████████| 155/155 [00:01<00:00, 81.53it/s]\n"
          ],
          "name": "stderr"
        },
        {
          "output_type": "stream",
          "text": [
            "Grabbing PID 40890\n"
          ],
          "name": "stdout"
        },
        {
          "output_type": "stream",
          "text": [
            "100%|██████████| 155/155 [00:01<00:00, 87.03it/s]\n"
          ],
          "name": "stderr"
        },
        {
          "output_type": "stream",
          "text": [
            "Grabbing PID 40926\n"
          ],
          "name": "stdout"
        },
        {
          "output_type": "stream",
          "text": [
            "100%|██████████| 155/155 [00:01<00:00, 91.13it/s]\n"
          ],
          "name": "stderr"
        },
        {
          "output_type": "stream",
          "text": [
            "Grabbing PID 35613\n"
          ],
          "name": "stdout"
        },
        {
          "output_type": "stream",
          "text": [
            "100%|██████████| 155/155 [00:01<00:00, 84.78it/s]\n"
          ],
          "name": "stderr"
        },
        {
          "output_type": "stream",
          "text": [
            "Grabbing PID 35698\n"
          ],
          "name": "stdout"
        },
        {
          "output_type": "stream",
          "text": [
            "100%|██████████| 155/155 [00:01<00:00, 80.04it/s] \n"
          ],
          "name": "stderr"
        },
        {
          "output_type": "stream",
          "text": [
            "Grabbing PID 40993\n"
          ],
          "name": "stdout"
        },
        {
          "output_type": "stream",
          "text": [
            "100%|██████████| 155/155 [00:01<00:00, 80.87it/s]\n"
          ],
          "name": "stderr"
        },
        {
          "output_type": "stream",
          "text": [
            "Grabbing PID 36513\n"
          ],
          "name": "stdout"
        },
        {
          "output_type": "stream",
          "text": [
            "100%|██████████| 155/155 [00:01<00:00, 82.71it/s]\n"
          ],
          "name": "stderr"
        },
        {
          "output_type": "stream",
          "text": [
            "Grabbing PID 35647\n"
          ],
          "name": "stdout"
        },
        {
          "output_type": "stream",
          "text": [
            "100%|██████████| 155/155 [00:01<00:00, 91.62it/s]\n"
          ],
          "name": "stderr"
        },
        {
          "output_type": "stream",
          "text": [
            "Grabbing PID 35947\n"
          ],
          "name": "stdout"
        },
        {
          "output_type": "stream",
          "text": [
            "100%|██████████| 155/155 [00:02<00:00, 70.18it/s]\n"
          ],
          "name": "stderr"
        },
        {
          "output_type": "stream",
          "text": [
            "Grabbing PID 35959\n"
          ],
          "name": "stdout"
        },
        {
          "output_type": "stream",
          "text": [
            "100%|██████████| 155/155 [00:02<00:00, 77.39it/s]\n"
          ],
          "name": "stderr"
        },
        {
          "output_type": "stream",
          "text": [
            "Grabbing PID 36003\n"
          ],
          "name": "stdout"
        },
        {
          "output_type": "stream",
          "text": [
            "100%|██████████| 155/155 [00:01<00:00, 80.98it/s]\n"
          ],
          "name": "stderr"
        },
        {
          "output_type": "stream",
          "text": [
            "Grabbing PID 41129\n"
          ],
          "name": "stdout"
        },
        {
          "output_type": "stream",
          "text": [
            "100%|██████████| 155/155 [00:02<00:00, 76.81it/s]\n"
          ],
          "name": "stderr"
        },
        {
          "output_type": "stream",
          "text": [
            "Grabbing PID 40968\n"
          ],
          "name": "stdout"
        },
        {
          "output_type": "stream",
          "text": [
            "100%|██████████| 155/155 [00:01<00:00, 79.52it/s]\n"
          ],
          "name": "stderr"
        },
        {
          "output_type": "stream",
          "text": [
            "Grabbing PID 36263\n"
          ],
          "name": "stdout"
        },
        {
          "output_type": "stream",
          "text": [
            "100%|██████████| 155/155 [00:01<00:00, 86.14it/s]\n"
          ],
          "name": "stderr"
        },
        {
          "output_type": "stream",
          "text": [
            "Grabbing PID 40855\n"
          ],
          "name": "stdout"
        },
        {
          "output_type": "stream",
          "text": [
            "100%|██████████| 155/155 [00:01<00:00, 82.16it/s]\n"
          ],
          "name": "stderr"
        },
        {
          "output_type": "stream",
          "text": [
            "Grabbing PID 40918\n"
          ],
          "name": "stdout"
        },
        {
          "output_type": "stream",
          "text": [
            "100%|██████████| 155/155 [00:01<00:00, 89.58it/s]\n"
          ],
          "name": "stderr"
        },
        {
          "output_type": "stream",
          "text": [
            "Grabbing PID 40846\n"
          ],
          "name": "stdout"
        },
        {
          "output_type": "stream",
          "text": [
            "100%|██████████| 155/155 [00:01<00:00, 84.35it/s]\n"
          ],
          "name": "stderr"
        },
        {
          "output_type": "stream",
          "text": [
            "Grabbing PID 35710\n"
          ],
          "name": "stdout"
        },
        {
          "output_type": "stream",
          "text": [
            "100%|██████████| 155/155 [00:01<00:00, 81.52it/s]\n"
          ],
          "name": "stderr"
        },
        {
          "output_type": "stream",
          "text": [
            "Grabbing PID 35548\n"
          ],
          "name": "stdout"
        },
        {
          "output_type": "stream",
          "text": [
            "100%|██████████| 155/155 [00:01<00:00, 85.73it/s]\n"
          ],
          "name": "stderr"
        },
        {
          "output_type": "stream",
          "text": [
            "Grabbing PID 35730\n"
          ],
          "name": "stdout"
        },
        {
          "output_type": "stream",
          "text": [
            "100%|██████████| 155/155 [00:01<00:00, 79.59it/s]\n"
          ],
          "name": "stderr"
        },
        {
          "output_type": "stream",
          "text": [
            "Grabbing PID 40950\n"
          ],
          "name": "stdout"
        },
        {
          "output_type": "stream",
          "text": [
            "100%|██████████| 155/155 [00:01<00:00, 81.15it/s]\n"
          ],
          "name": "stderr"
        },
        {
          "output_type": "stream",
          "text": [
            "Grabbing PID 36125\n"
          ],
          "name": "stdout"
        },
        {
          "output_type": "stream",
          "text": [
            "100%|██████████| 155/155 [00:01<00:00, 92.17it/s]\n"
          ],
          "name": "stderr"
        },
        {
          "output_type": "stream",
          "text": [
            "Grabbing PID 36120\n"
          ],
          "name": "stdout"
        },
        {
          "output_type": "stream",
          "text": [
            "100%|██████████| 155/155 [00:01<00:00, 89.21it/s]\n"
          ],
          "name": "stderr"
        },
        {
          "output_type": "stream",
          "text": [
            "Grabbing PID 36522\n"
          ],
          "name": "stdout"
        },
        {
          "output_type": "stream",
          "text": [
            "100%|██████████| 155/155 [00:01<00:00, 82.11it/s]\n"
          ],
          "name": "stderr"
        },
        {
          "output_type": "stream",
          "text": [
            "Grabbing PID 41039\n"
          ],
          "name": "stdout"
        },
        {
          "output_type": "stream",
          "text": [
            "100%|██████████| 155/155 [00:01<00:00, 79.01it/s]\n"
          ],
          "name": "stderr"
        },
        {
          "output_type": "stream",
          "text": [
            "Grabbing PID 41137\n"
          ],
          "name": "stdout"
        },
        {
          "output_type": "stream",
          "text": [
            "100%|██████████| 155/155 [00:01<00:00, 78.96it/s]\n"
          ],
          "name": "stderr"
        },
        {
          "output_type": "stream",
          "text": [
            "Grabbing PID 41080\n"
          ],
          "name": "stdout"
        },
        {
          "output_type": "stream",
          "text": [
            "100%|██████████| 155/155 [00:01<00:00, 79.24it/s]\n"
          ],
          "name": "stderr"
        },
        {
          "output_type": "stream",
          "text": [
            "Grabbing PID 36269\n"
          ],
          "name": "stdout"
        },
        {
          "output_type": "stream",
          "text": [
            "100%|██████████| 155/155 [00:01<00:00, 85.43it/s]\n"
          ],
          "name": "stderr"
        },
        {
          "output_type": "stream",
          "text": [
            "Grabbing PID 35872\n"
          ],
          "name": "stdout"
        },
        {
          "output_type": "stream",
          "text": [
            "100%|██████████| 155/155 [00:01<00:00, 92.90it/s]\n"
          ],
          "name": "stderr"
        },
        {
          "output_type": "stream",
          "text": [
            "Grabbing PID 41058\n"
          ],
          "name": "stdout"
        },
        {
          "output_type": "stream",
          "text": [
            "100%|██████████| 155/155 [00:01<00:00, 81.53it/s]\n"
          ],
          "name": "stderr"
        },
        {
          "output_type": "stream",
          "text": [
            "Grabbing PID 41060\n"
          ],
          "name": "stdout"
        },
        {
          "output_type": "stream",
          "text": [
            "100%|██████████| 155/155 [00:01<00:00, 89.38it/s]\n"
          ],
          "name": "stderr"
        },
        {
          "output_type": "stream",
          "text": [
            "Grabbing PID 36133\n"
          ],
          "name": "stdout"
        },
        {
          "output_type": "stream",
          "text": [
            "100%|██████████| 155/155 [00:01<00:00, 84.52it/s]\n"
          ],
          "name": "stderr"
        },
        {
          "output_type": "stream",
          "text": [
            "Grabbing PID 35593\n"
          ],
          "name": "stdout"
        },
        {
          "output_type": "stream",
          "text": [
            "100%|██████████| 155/155 [00:01<00:00, 81.76it/s]\n"
          ],
          "name": "stderr"
        },
        {
          "output_type": "stream",
          "text": [
            "Grabbing PID 40882\n"
          ],
          "name": "stdout"
        },
        {
          "output_type": "stream",
          "text": [
            "100%|██████████| 155/155 [00:01<00:00, 81.92it/s]\n"
          ],
          "name": "stderr"
        },
        {
          "output_type": "stream",
          "text": [
            "Grabbing PID 35687\n"
          ],
          "name": "stdout"
        },
        {
          "output_type": "stream",
          "text": [
            "100%|██████████| 155/155 [00:01<00:00, 79.20it/s]\n"
          ],
          "name": "stderr"
        },
        {
          "output_type": "stream",
          "text": [
            "Grabbing PID 35789\n"
          ],
          "name": "stdout"
        },
        {
          "output_type": "stream",
          "text": [
            "100%|██████████| 155/155 [00:02<00:00, 75.43it/s]\n"
          ],
          "name": "stderr"
        },
        {
          "output_type": "stream",
          "text": [
            "Grabbing PID 35557\n"
          ],
          "name": "stdout"
        },
        {
          "output_type": "stream",
          "text": [
            "100%|██████████| 155/155 [00:01<00:00, 78.23it/s]\n"
          ],
          "name": "stderr"
        },
        {
          "output_type": "stream",
          "text": [
            "Grabbing PID 36295\n"
          ],
          "name": "stdout"
        },
        {
          "output_type": "stream",
          "text": [
            "100%|██████████| 155/155 [00:01<00:00, 95.90it/s]\n"
          ],
          "name": "stderr"
        },
        {
          "output_type": "stream",
          "text": [
            "Grabbing PID 40851\n"
          ],
          "name": "stdout"
        },
        {
          "output_type": "stream",
          "text": [
            "100%|██████████| 155/155 [00:01<00:00, 85.89it/s]\n"
          ],
          "name": "stderr"
        },
        {
          "output_type": "stream",
          "text": [
            "Grabbing PID 35623\n"
          ],
          "name": "stdout"
        },
        {
          "output_type": "stream",
          "text": [
            "100%|██████████| 155/155 [00:02<00:00, 74.01it/s]\n"
          ],
          "name": "stderr"
        },
        {
          "output_type": "stream",
          "text": [
            "Grabbing PID 40828\n"
          ],
          "name": "stdout"
        },
        {
          "output_type": "stream",
          "text": [
            "100%|██████████| 155/155 [00:01<00:00, 90.39it/s]\n"
          ],
          "name": "stderr"
        },
        {
          "output_type": "stream",
          "text": [
            "Grabbing PID 36086\n"
          ],
          "name": "stdout"
        },
        {
          "output_type": "stream",
          "text": [
            "100%|██████████| 155/155 [00:01<00:00, 91.83it/s]\n"
          ],
          "name": "stderr"
        },
        {
          "output_type": "stream",
          "text": [
            "Grabbing PID 35715\n"
          ],
          "name": "stdout"
        },
        {
          "output_type": "stream",
          "text": [
            "100%|██████████| 155/155 [00:01<00:00, 80.04it/s]\n"
          ],
          "name": "stderr"
        },
        {
          "output_type": "stream",
          "text": [
            "Grabbing PID 36211\n"
          ],
          "name": "stdout"
        },
        {
          "output_type": "stream",
          "text": [
            "100%|██████████| 155/155 [00:01<00:00, 83.44it/s]\n"
          ],
          "name": "stderr"
        },
        {
          "output_type": "stream",
          "text": [
            "Grabbing PID 35641\n"
          ],
          "name": "stdout"
        },
        {
          "output_type": "stream",
          "text": [
            "100%|██████████| 155/155 [00:02<00:00, 76.31it/s]\n"
          ],
          "name": "stderr"
        },
        {
          "output_type": "stream",
          "text": [
            "Grabbing PID 36503\n"
          ],
          "name": "stdout"
        },
        {
          "output_type": "stream",
          "text": [
            "100%|██████████| 155/155 [00:01<00:00, 92.75it/s]\n"
          ],
          "name": "stderr"
        },
        {
          "output_type": "stream",
          "text": [
            "Grabbing PID 36033\n"
          ],
          "name": "stdout"
        },
        {
          "output_type": "stream",
          "text": [
            "100%|██████████| 155/155 [00:01<00:00, 82.45it/s]\n"
          ],
          "name": "stderr"
        },
        {
          "output_type": "stream",
          "text": [
            "Grabbing PID 36225\n"
          ],
          "name": "stdout"
        },
        {
          "output_type": "stream",
          "text": [
            "100%|██████████| 155/155 [00:01<00:00, 81.73it/s]\n"
          ],
          "name": "stderr"
        },
        {
          "output_type": "stream",
          "text": [
            "Grabbing PID 40841\n"
          ],
          "name": "stdout"
        },
        {
          "output_type": "stream",
          "text": [
            "100%|██████████| 155/155 [00:01<00:00, 84.47it/s]\n"
          ],
          "name": "stderr"
        },
        {
          "output_type": "stream",
          "text": [
            "Grabbing PID 41116\n"
          ],
          "name": "stdout"
        },
        {
          "output_type": "stream",
          "text": [
            "100%|██████████| 155/155 [00:01<00:00, 80.86it/s]\n"
          ],
          "name": "stderr"
        },
        {
          "output_type": "stream",
          "text": [
            "Grabbing PID 36189\n"
          ],
          "name": "stdout"
        },
        {
          "output_type": "stream",
          "text": [
            "100%|██████████| 155/155 [00:01<00:00, 77.91it/s]\n"
          ],
          "name": "stderr"
        },
        {
          "output_type": "stream",
          "text": [
            "Grabbing PID 36188\n"
          ],
          "name": "stdout"
        },
        {
          "output_type": "stream",
          "text": [
            "100%|██████████| 155/155 [00:01<00:00, 84.59it/s]\n"
          ],
          "name": "stderr"
        },
        {
          "output_type": "stream",
          "text": [
            "Grabbing PID 36052\n"
          ],
          "name": "stdout"
        },
        {
          "output_type": "stream",
          "text": [
            "100%|██████████| 155/155 [00:01<00:00, 82.15it/s]\n"
          ],
          "name": "stderr"
        },
        {
          "output_type": "stream",
          "text": [
            "Grabbing PID 35696\n"
          ],
          "name": "stdout"
        },
        {
          "output_type": "stream",
          "text": [
            "100%|██████████| 155/155 [00:01<00:00, 88.37it/s]\n"
          ],
          "name": "stderr"
        },
        {
          "output_type": "stream",
          "text": [
            "Grabbing PID 36200\n"
          ],
          "name": "stdout"
        },
        {
          "output_type": "stream",
          "text": [
            "100%|██████████| 155/155 [00:01<00:00, 79.77it/s]\n"
          ],
          "name": "stderr"
        },
        {
          "output_type": "stream",
          "text": [
            "Grabbing PID 35854\n"
          ],
          "name": "stdout"
        },
        {
          "output_type": "stream",
          "text": [
            "100%|██████████| 155/155 [00:01<00:00, 80.88it/s]\n"
          ],
          "name": "stderr"
        },
        {
          "output_type": "stream",
          "text": [
            "Grabbing PID 35799\n"
          ],
          "name": "stdout"
        },
        {
          "output_type": "stream",
          "text": [
            "100%|██████████| 155/155 [00:02<00:00, 69.65it/s]\n"
          ],
          "name": "stderr"
        },
        {
          "output_type": "stream",
          "text": [
            "Grabbing PID 36177\n"
          ],
          "name": "stdout"
        },
        {
          "output_type": "stream",
          "text": [
            "100%|██████████| 155/155 [00:01<00:00, 83.34it/s]\n"
          ],
          "name": "stderr"
        },
        {
          "output_type": "stream",
          "text": [
            "Grabbing PID 35811\n"
          ],
          "name": "stdout"
        },
        {
          "output_type": "stream",
          "text": [
            "100%|██████████| 155/155 [00:01<00:00, 87.90it/s]\n"
          ],
          "name": "stderr"
        },
        {
          "output_type": "stream",
          "text": [
            "Grabbing PID 36315\n"
          ],
          "name": "stdout"
        },
        {
          "output_type": "stream",
          "text": [
            "100%|██████████| 155/155 [00:01<00:00, 88.85it/s]\n"
          ],
          "name": "stderr"
        },
        {
          "output_type": "stream",
          "text": [
            "Grabbing PID 35866\n"
          ],
          "name": "stdout"
        },
        {
          "output_type": "stream",
          "text": [
            "100%|██████████| 155/155 [00:01<00:00, 91.24it/s]\n"
          ],
          "name": "stderr"
        },
        {
          "output_type": "stream",
          "text": [
            "Grabbing PID 35603\n"
          ],
          "name": "stdout"
        },
        {
          "output_type": "stream",
          "text": [
            "100%|██████████| 155/155 [00:01<00:00, 86.29it/s]\n"
          ],
          "name": "stderr"
        },
        {
          "output_type": "stream",
          "text": [
            "Grabbing PID 35927\n"
          ],
          "name": "stdout"
        },
        {
          "output_type": "stream",
          "text": [
            "100%|██████████| 155/155 [00:01<00:00, 81.33it/s]\n"
          ],
          "name": "stderr"
        }
      ]
    },
    {
      "cell_type": "code",
      "metadata": {
        "id": "sg5EO_MO-y0d",
        "colab_type": "code",
        "outputId": "9a8cd924-aba8-4088-8474-d580af64ed06",
        "colab": {}
      },
      "source": [
        "'''\n",
        "Show stck cross-section.\n",
        "'''\n",
        "\n",
        "s = 75\n",
        "a,b,c,d,m = vols[:,s,:,:]\n",
        "stck = np.stack([a,b,c,d], axis=2)\n",
        "plt.imshow(stck[:,:,:3])"
      ],
      "execution_count": 0,
      "outputs": [
        {
          "output_type": "execute_result",
          "data": {
            "text/plain": [
              "<matplotlib.image.AxesImage at 0x7f23aacd2438>"
            ]
          },
          "metadata": {
            "tags": []
          },
          "execution_count": 42
        },
        {
          "output_type": "display_data",
          "data": {
            "image/png": "[encoded data removed]",
            "text/plain": [
              "<Figure size 432x288 with 1 Axes>"
            ]
          },
          "metadata": {
            "tags": []
          }
        }
      ]
    },
    {
      "cell_type": "code",
      "metadata": {
        "colab_type": "code",
        "id": "N26U1t4zUGyy",
        "outputId": "276189ff-45ea-4896-9f8f-b91e791364b2",
        "colab": {
          "base_uri": "https://localhost:8080/",
          "height": 286
        }
      },
      "source": [
        "plt.imshow(vols[4,72,:,:])"
      ],
      "execution_count": 0,
      "outputs": [
        {
          "output_type": "execute_result",
          "data": {
            "text/plain": [
              "<matplotlib.image.AxesImage at 0x7f23aa6f5400>"
            ]
          },
          "metadata": {
            "tags": []
          },
          "execution_count": 47
        },
        {
          "output_type": "display_data",
          "data": {
            "image/png": "[encoded data removed]",
            "text/plain": [
              "<Figure size 432x288 with 1 Axes>"
            ]
          },
          "metadata": {
            "tags": []
          }
        }
      ]
    }
  ]
}