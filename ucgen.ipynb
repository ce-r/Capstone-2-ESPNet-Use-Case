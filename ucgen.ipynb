{
  "nbformat": 4,
  "nbformat_minor": 0,
  "metadata": {
    "colab": {
      "name": "ucgen.ipynb",
      "provenance": [],
      "collapsed_sections": []
    },
    "kernelspec": {
      "name": "python3",
      "display_name": "Python 3"
    }
  },
  "cells": [
    {
      "cell_type": "code",
      "metadata": {
        "id": "vhJ3p6S0YuPF",
        "colab_type": "code",
        "colab": {}
      },
      "source": [
        "import glob\n",
        "import os"
      ],
      "execution_count": 0,
      "outputs": []
    },
    {
      "cell_type": "code",
      "metadata": {
        "id": "lx2jLTb4xHpl",
        "colab_type": "code",
        "outputId": "f57cc9ce-fb76-4d4a-f6dc-38dae095b189",
        "colab": {
          "base_uri": "https://localhost:8080/",
          "height": 125
        }
      },
      "source": [
        "#Mount your drive.\n",
        "from google.colab import drive\n",
        "drive.mount('/content/drive')"
      ],
      "execution_count": 0,
      "outputs": [
        {
          "output_type": "stream",
          "text": [
            "Go to this URL in a browser: https://accounts.google.com/o/oauth2/auth?client_id=947318989803-6bn6qk8qdgf4n4g3pfee6491hc0brc4i.apps.googleusercontent.com&redirect_uri=urn%3aietf%3awg%3aoauth%3a2.0%3aoob&response_type=code&scope=email%20https%3a%2f%2fwww.googleapis.com%2fauth%2fdocs.test%20https%3a%2f%2fwww.googleapis.com%2fauth%2fdrive%20https%3a%2f%2fwww.googleapis.com%2fauth%2fdrive.photos.readonly%20https%3a%2f%2fwww.googleapis.com%2fauth%2fpeopleapi.readonly\n",
            "\n",
            "Enter your authorization code:\n",
            "··········\n",
            "Mounted at /content/drive\n"
          ],
          "name": "stdout"
        }
      ]
    },
    {
      "cell_type": "code",
      "metadata": {
        "id": "3QrwQhQnxbfE",
        "colab_type": "code",
        "outputId": "a77974d3-83a8-4a90-8351-99f04712dde2",
        "colab": {
          "base_uri": "https://localhost:8080/",
          "height": 34
        }
      },
      "source": [
        "cd /content/drive/My Drive/MICCAI_BraTS_2018_Data_Training/prep"
      ],
      "execution_count": 0,
      "outputs": [
        {
          "output_type": "stream",
          "text": [
            "/content/drive/My Drive/MICCAI_BraTS_2018_Data_Training/prep\n"
          ],
          "name": "stdout"
        }
      ]
    },
    {
      "cell_type": "markdown",
      "metadata": {
        "id": "fICtilQJ37KA",
        "colab_type": "text"
      },
      "source": [
        "2019 BRATS DATA DOES NOT MAP BW FLAIR AND SEG"
      ]
    },
    {
      "cell_type": "code",
      "metadata": {
        "id": "Ow27fGZyqlNv",
        "colab_type": "code",
        "colab": {}
      },
      "source": [
        "#BRATS 2018 <= this one\n",
        "folders = glob.glob(\"*\")\n",
        "writeText = open('train.txt', 'w')\n",
        "\n",
        "for folder in folders:\n",
        "        files = glob.glob(folder + '/*_flair.nii.gz')\n",
        "        if len(files) <= 0:\n",
        "            continue\n",
        "        writeText.write(os.sep + files[0] + ', ' + os.sep + files[0].replace('flair', 'seg') + '\\n')\n",
        "writeText.close()"
      ],
      "execution_count": 0,
      "outputs": []
    },
    {
      "cell_type": "code",
      "metadata": {
        "id": "GL7hV5z7V25F",
        "colab_type": "code",
        "outputId": "a1073e04-8d74-48f8-f14d-813b636b80fe",
        "colab": {
          "base_uri": "https://localhost:8080/",
          "height": 34
        }
      },
      "source": [
        "cd /content/drive/My Drive/MICCAI_BraTS_2019_Data_Training/prep"
      ],
      "execution_count": 0,
      "outputs": [
        {
          "output_type": "stream",
          "text": [
            "/content/drive/My Drive/MICCAI_BraTS_2019_Data_Training/prep\n"
          ],
          "name": "stdout"
        }
      ]
    },
    {
      "cell_type": "code",
      "metadata": {
        "id": "AwunT_z0taA1",
        "colab_type": "code",
        "outputId": "ad730fff-97cd-4d0c-f3a3-80dd9ba4c50e",
        "colab": {
          "base_uri": "https://localhost:8080/",
          "height": 105
        }
      },
      "source": [
        "folders[:5]"
      ],
      "execution_count": 0,
      "outputs": [
        {
          "output_type": "execute_result",
          "data": {
            "text/plain": [
              "['_preprocessBraTS19_TCIA10_109_1',\n",
              " '_preprocessBraTS19_TCIA10_261_1',\n",
              " '_preprocessBraTS19_TCIA09_620_1',\n",
              " '_preprocessBraTS19_TCIA10_152_1',\n",
              " '_preprocessBraTS19_TCIA10_175_1']"
            ]
          },
          "metadata": {
            "tags": []
          },
          "execution_count": 57
        }
      ]
    },
    {
      "cell_type": "code",
      "metadata": {
        "id": "PhZTAdeusA9c",
        "colab_type": "code",
        "colab": {}
      },
      "source": [
        "#BRATS 2019 <= this one\n",
        "\n",
        "folders = glob.glob(\"*\")\n",
        "writeText = open('val.txt', 'w')\n",
        "\n",
        "for folder in folders:\n",
        "        files = glob.glob(folder + '/*_flair.nii.gz')\n",
        "        if len(files) <= 0:\n",
        "            continue\n",
        "        writeText.write(os.sep + files[0] + ', ' + os.sep + files[0].replace('flair', 'seg') + '\\n')\n",
        "writeText.close()"
      ],
      "execution_count": 0,
      "outputs": []
    },
    {
      "cell_type": "code",
      "metadata": {
        "id": "4RbwogjFX4Ix",
        "colab_type": "code",
        "outputId": "46f2a5be-d70d-42f1-f3b9-820e5bd086fd",
        "colab": {
          "base_uri": "https://localhost:8080/",
          "height": 34
        }
      },
      "source": [
        "cd /content/drive/My Drive/testing"
      ],
      "execution_count": 0,
      "outputs": [
        {
          "output_type": "stream",
          "text": [
            "/content/drive/My Drive/testing\n"
          ],
          "name": "stdout"
        }
      ]
    },
    {
      "cell_type": "code",
      "metadata": {
        "id": "wip3UO5jz_w7",
        "colab_type": "code",
        "colab": {}
      },
      "source": [
        "# split both from 2018, 2019, or 2013(should not be processed)\n",
        "# remember to create new train.txt, val.txt\n",
        "\n",
        "folders = glob.glob(\"*\")\n",
        "#folders = ['HGG', 'LGG']\n",
        "writeText = open('test.txt', 'w')\n",
        "\n",
        "for folder in folders:\n",
        "    files = glob.glob(folder + '/*_flair.nii.gz')\n",
        "    if len(files) <= 0:\n",
        "        continue\n",
        "    writeText.write(os.sep + files[0] + ', ' + '\\n')\n",
        "writeText.close()"
      ],
      "execution_count": 0,
      "outputs": []
    },
    {
      "cell_type": "code",
      "metadata": {
        "id": "YgkzRIoWCgMR",
        "colab_type": "code",
        "colab": {}
      },
      "source": [
        ""
      ],
      "execution_count": 0,
      "outputs": []
    }
  ]
}